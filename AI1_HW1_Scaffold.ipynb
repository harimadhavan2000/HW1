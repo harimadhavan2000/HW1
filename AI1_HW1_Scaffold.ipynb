{
  "cells": [
    {
      "cell_type": "markdown",
      "metadata": {
        "id": "Sn36zSjrA98K"
      },
      "source": [
        "<img src=\"https://drive.google.com/uc?export=view&id=1WpIuwT7ActKDLTILNYc4L1_2s20e8yMO\" width=300/> \n",
        "\n",
        "# AI-1: ML/AI Basics\n",
        "## Homework 1: kNN and Linear Regression\n",
        "\n",
        "**AI1 Cohort 5**<br/>\n",
        "**Univ.AI**<br/>\n",
        "**Instructor**: Dr. Pavlos Protopapas<br />\n",
        "**Maximum Score**: 50\n",
        "\n",
        "<hr style=\"height:2.4pt\">"
      ]
    },
    {
      "cell_type": "markdown",
      "metadata": {
        "id": "fJZfDyaVA98P"
      },
      "source": [
        "## Name of people who have worked on this homework: \n",
        "Hari Krishna; Shubham Deshmukh"
      ]
    },
    {
      "cell_type": "markdown",
      "metadata": {
        "id": "aa0t4AHyA98P"
      },
      "source": [
        "## [Optional] Google Colab notebook link with any other affiliated links:\n",
        "https://colab.research.google.com/github/harimadhavan2000/HW1/blob/master/AI1_HW1_Scaffold.ipynb"
      ]
    },
    {
      "cell_type": "markdown",
      "metadata": {
        "id": "DsuL0iHYA98Q"
      },
      "source": [
        "<hr style=\"height:2.4pt\">"
      ]
    },
    {
      "cell_type": "markdown",
      "metadata": {
        "id": "G322Og4WA98Q"
      },
      "source": [
        "## Instructions"
      ]
    },
    {
      "cell_type": "markdown",
      "metadata": {
        "id": "9eebm4IGA98Q"
      },
      "source": [
        "\n",
        "- This homework is a jupyter notebook. Download and work on it in your local machine or you can work on it on Google Colab.\n",
        "\n",
        "- This homework should be worked on in pairs.\n",
        "\n",
        "- To submit the homework, either one of you upload the working notebook on Edstem and click the submit button on the bottom right corner.\n",
        "\n",
        "- Homework should be submitted by only one student in a team of two. If both teammates submit, scores will be penalized. \n",
        "\n",
        "- Running cells out of order is a common pitfall in Jupyter Notebooks. To make sure your code works restart the kernel and run the whole notebook again before you submit. \n",
        "\n",
        "- If you decide to submit a colab notebook, ensure you have given **complete edit access** to the staff while submitting. Also add any data that requires reviewing on google drive and submit the link.\n",
        "\n",
        "- Submit the homework well before the given deadline. Submissions after the deadline will not be graded.\n",
        "\n",
        "- We have tried to include all the libraries you may need to do the assignment in the imports statement at the top of this notebook. We strongly suggest that you use those and not others as we may not be familiar with them.\n",
        "\n",
        "- Comment your code well. This would help the graders in case there is any issue with the notebook while running. It is important to remember that the graders will not troubleshoot your code. \n",
        "\n",
        "- Please use .head() when viewing data. Do not submit a notebook that is **excessively long**. \n",
        "\n",
        "- In questions that require code to answer, such as \"calculate the $R^2$\", do not just output the value from a cell. Write a `print()` function that includes a reference to the calculated value, **not hardcoded**. For example: \n",
        "```\n",
        "print(f'The R^2 is {R:.4f}')\n",
        "```\n",
        "- Your plots should include clear labels for the $x$ and $y$ axes as well as a descriptive title (\"MSE plot\" is not a descriptive title; \"95 % confidence interval of coefficients of polynomial degree 5\" is).\n",
        "\n",
        "- **Ensure you make appropriate plots for all the questions it is applicable to, regardless of it being explicitly asked for.**\n",
        "\n",
        "<span style=\"color:red\"> \n",
        "\n",
        "**IMPORTANT** \n",
        "\n",
        "- Plagiarism of code/blocks of text is not acceptable for any Univ.AI submissions.\n",
        "- You are allowed to refer a publicly available source of information for a SMALL chunk of code provided you cite it clearly. \n",
        "- Copying the code blatantly without attribution is not permitted under any case. \n",
        "- Sharing code between homework teams is strictly not allowed.\n",
        "In case of any confusion you are advised to ask the staff on the Ed forum rather than assume the course of action needed. \n",
        "- If caught plagiarizing, you risk expulsion from the program.\n",
        "</span>\n",
        "\n",
        "<hr style=\"height:2pt\">\n",
        "\n",
        "<hr style=\"height:2pt\">"
      ]
    },
    {
      "cell_type": "markdown",
      "metadata": {
        "id": "9i67MjVDA98S"
      },
      "source": [
        "<h2> Overview </h2> \n",
        "\n",
        "This assignment is the first where you will go through the process of loading a dataset, splitting it in train,validation and test sets, \n",
        "pre-processing it, and finally using it to run models and evaluating your results. \n",
        "\n",
        "We have two different datasets, one with car data in **Part 1** and another with data from an Indian matrimonial web site in **Part 2**.\n",
        "\n",
        "For part 1, you will explore two simple methods for prediction,  **k-nearest neighbors regression (kNN)**, a *non-parametric* method, and **linear regression**, a *parametric* method. As you move towards Part 2 of the homework, you will work with multiple linear and polynomial regression."
      ]
    },
    {
      "cell_type": "code",
      "execution_count": null,
      "metadata": {
        "id": "aKLfxWaVA98S"
      },
      "outputs": [],
      "source": [
        "!pip install seaborn"
      ]
    },
    {
      "cell_type": "code",
      "execution_count": 1,
      "metadata": {
        "collapsed": true,
        "id": "9qbfFOJKA98U"
      },
      "outputs": [],
      "source": [
        "# Importing standard libraries\n",
        "import requests\n",
        "from IPython.core.display import HTML\n",
        "import os\n",
        "import pathlib\n",
        "working_dir = pathlib.Path().absolute()\n",
        "os.chdir(working_dir)\n",
        "import numpy as np\n",
        "import operator\n",
        "import pandas as pd\n",
        "import matplotlib\n",
        "import matplotlib.pyplot as plt\n",
        "from sklearn.metrics import r2_score\n",
        "from sklearn.metrics import mean_squared_error\n",
        "from sklearn.neighbors import KNeighborsRegressor\n",
        "import seaborn as sns\n",
        "from sklearn.model_selection import train_test_split\n",
        "from sklearn.metrics import mean_squared_error\n",
        "from sklearn.linear_model import LinearRegression\n",
        "\n",
        "# Pandas tricks for better display\n",
        "pd.options.display.max_columns = 50  \n",
        "pd.options.display.max_rows = 500     \n",
        "pd.options.display.max_colwidth = 100\n",
        "pd.options.display.precision = 3\n",
        "\n",
        "# Part 2 imports \n",
        "from scipy.stats import norm\n",
        "from sklearn.preprocessing import PolynomialFeatures"
      ]
    },
    {
      "cell_type": "code",
      "execution_count": 2,
      "metadata": {
        "id": "ymcoCsvYA98U"
      },
      "outputs": [],
      "source": [
        "# Run this cell for more readable visuals \n",
        "large = 22; med = 16; small = 10\n",
        "params = {'axes.titlesize': large,\n",
        "          'legend.fontsize': med,\n",
        "          'figure.figsize': (16, 10),\n",
        "          'axes.labelsize': med,\n",
        "          'axes.titlesize': med,\n",
        "          'axes.linewidth': 2,\n",
        "          'xtick.labelsize': med,\n",
        "          'ytick.labelsize': med,\n",
        "          'figure.titlesize': large}\n",
        "plt.style.use('seaborn-whitegrid')\n",
        "plt.rcParams.update(params)\n",
        "%matplotlib inline"
      ]
    },
    {
      "cell_type": "markdown",
      "metadata": {
        "id": "so58Zk3AA98V"
      },
      "source": [
        "<div class=\"alert alert-block alert-danger\" style=\"color:black;background-color:#F6E6E2\">\n",
        "<h2 style=\"color:black;background-color:#F6E6E2\"> Part A: k-NN and Linear Regression [30 points total] </h2>    <br />\n",
        "\n",
        "\n",
        "### Problem Description: Predicting the Selling Price of Cars on CarDekho.com\n",
        "\n",
        "According to its website, **CarDekho.com** is India's leading car search venture. \n",
        "Its website and app carry rich automotive content such as expert reviews, \n",
        "detailed specs and prices, comparisons as well as videos and pictures of all car brands and models available in India. \n",
        "Each car has a **Current selling price**, which is the price for buying the car on this site, and a **MRP**, \n",
        "which is the retail price of the car. These two prices differ depending on factors such as brand, \n",
        "make year, mileage, condition, etc.  \n",
        "    \n",
        "#### DATASET\n",
        "\n",
        "The dataset contains 601 cars and is in file `car_dekho_full.csv`. It contains the following columns:\n",
        "\n",
        "- **Year** - make year (year the car was made), \n",
        "- **Current_Selling_Price** - current price of a car on CarDekho.com (in lakhs),\n",
        "- **MRP** - maximum retail price of a car (in lakhs),\n",
        "- **Kms_Driven** - number of kilometers\n",
        "\n",
        "Note: 1 *lakh*  is 100,000 Rupees in the Indian numbering system. Also, kilometers are used as a measure of distance instead of miles.\n",
        "\n",
        "#### Your Task: \n",
        "Predict the `Current_Selling_Price` from the other features.\n"
      ]
    },
    {
      "cell_type": "markdown",
      "metadata": {
        "id": "XpJ-7KjVA98V"
      },
      "source": [
        "<div class=\"alert alert-block alert-danger\" style=\"color:black;background-color:#F6E6E2\">\n",
        "    \n",
        "<h3 style=\"color:black;background-color:#F6E6E2\"> Question 1:   Exploratory Data Analysis (EDA) [10 points total] </h3>    <br />\n",
        "    \n",
        "To reach the goal of predicting the `Current_Selling_Price`, start by inspecting the dataset using Exploratory Data Analysis (EDA).\n",
        "\n",
        "\n",
        "Load the dataset, inspect it and answer the following questions: \n",
        "\n",
        "**1.1** [2pts] Which variables are quantitative, and which are categorical? \n",
        "    \n",
        "**1.2** [2pts] What are the means and standard deviations for `Current_Selling_Price` and `MRP`? \n",
        "    \n",
        "**1.3** [2pts] What is the range of Kilometers that the cars have? \n",
        "Note: The range is the difference between the maximum value and the minimum value.\n",
        "\n",
        "\n",
        "**1.4** [2pts] The goal of this part is to identify the best variable from which to predict our respone variable `Current Selling Price`. Plot a scatter plot between each predictor and reponse variable and examine the relationship between the predictors and `Current_Selling_Price`. Based on the plots, which is the  predictor that visually seems to best predict the `Current_Selling_Price`? \n",
        "    \n",
        "<br/><br/>\n",
        "Note: Label your axes.\n",
        "</div>"
      ]
    },
    {
      "cell_type": "markdown",
      "metadata": {
        "id": "VR5NAMPzA98W"
      },
      "source": [
        "### Solutions "
      ]
    },
    {
      "cell_type": "markdown",
      "metadata": {
        "id": "M9CzmrJ4A98W"
      },
      "source": [
        "#### 1.1\n",
        "\n",
        "**Which variables are quantitative, and which are categorical?**"
      ]
    },
    {
      "cell_type": "code",
      "execution_count": null,
      "metadata": {},
      "outputs": [],
      "source": [
        "df = pd.read_csv(\"data/car_dekho_full.csv\")"
      ]
    },
    {
      "cell_type": "code",
      "execution_count": null,
      "metadata": {},
      "outputs": [],
      "source": [
        "df.head()"
      ]
    },
    {
      "cell_type": "code",
      "execution_count": null,
      "metadata": {
        "id": "TgByyAN2A98W"
      },
      "outputs": [],
      "source": [
        "# your code here\n",
        "df.columns\n"
      ]
    },
    {
      "cell_type": "markdown",
      "metadata": {},
      "source": [
        "Quantitative -  Current_Selling_Price, MRP, Kms_Driven \\\n",
        "Categorical - Year"
      ]
    },
    {
      "cell_type": "markdown",
      "metadata": {
        "id": "W7BWoiEhA98X"
      },
      "source": [
        "#### 1.2\n",
        "\n",
        "**What are the means and standard deviations for Current_Selling_Price and MRP?**"
      ]
    },
    {
      "cell_type": "code",
      "execution_count": null,
      "metadata": {
        "id": "DDIn47cFA98X"
      },
      "outputs": [],
      "source": [
        "# Name your variables as mean_csp, mean_mrp, std_csp, std_mrp\n",
        "\n",
        "# your code here\n",
        "mean_csp = df['Current_Selling_Price'].mean()\n",
        "mean_mrp = df['MRP'].mean()\n",
        "std_csp = df['Current_Selling_Price'].std()\n",
        "std_mrp = df['MRP'].std()\n",
        "\n",
        "# end your code here \n",
        "\n",
        "\n",
        "print (\"The mean Current Selling Price is\", mean_csp,\"lakhs\")\n",
        "print (\"The mean MRP is\", mean_mrp,'lakhs')\n",
        "print (\"The Standard Deviation of Current Selling Price is\", std_csp)\n",
        "print (\"The Standard Deviation of MRP is\", std_mrp)"
      ]
    },
    {
      "cell_type": "markdown",
      "metadata": {
        "id": "1YI0WFJ5A98X"
      },
      "source": [
        "#### 1.3\n",
        "\n",
        "**What is the range of Kilometers that the cars have?**"
      ]
    },
    {
      "cell_type": "code",
      "execution_count": null,
      "metadata": {
        "id": "Vy8sx9szA98X"
      },
      "outputs": [],
      "source": [
        "# your code here\n",
        "\n",
        "df['Kms_Driven'].describe()"
      ]
    },
    {
      "cell_type": "markdown",
      "metadata": {},
      "source": [
        "The range is 500.000 -  213000.000 kilometers."
      ]
    },
    {
      "cell_type": "markdown",
      "metadata": {
        "id": "5cCoZ8GIA98X"
      },
      "source": [
        "#### 1.4\n",
        "\n",
        "**The goal of this part is to identify the best variable from which to predict our respone variable Current Selling Price. Plot a scatter plot between each predictor and reponse variable and examine the relationship between the predictors and Current_Selling_Price. Based on the plots, which is the predictor that visually seem to best predict the Current_Selling_Price?**"
      ]
    },
    {
      "cell_type": "code",
      "execution_count": null,
      "metadata": {
        "id": "jS7xDbjOA98Y"
      },
      "outputs": [],
      "source": [
        "# your code here\n",
        "indep_columns = df.columns.drop('Current_Selling_Price')\n",
        "for x in indep_columns:\n",
        "    plt.figure()\n",
        "    plt.scatter(df[x], df['Current_Selling_Price'])\n",
        "    plt.xlabel(x)\n",
        "    plt.ylabel('Current Selling Price')"
      ]
    },
    {
      "cell_type": "markdown",
      "metadata": {
        "id": "OhMGXVB8A98Y"
      },
      "source": [
        "**Your answer here**\n"
      ]
    },
    {
      "cell_type": "markdown",
      "metadata": {},
      "source": [
        "We can see from the above generated figures that MRP seems to have the best relationship with the CSP."
      ]
    },
    {
      "cell_type": "markdown",
      "metadata": {
        "id": "K6Xzidz2A98Y"
      },
      "source": [
        "<div class=\"alert alert-block alert-danger\" style=\"color:black;background-color:#F6E6E2\">\n",
        "<h3 style=\"color:black;background-color:#F6E6E2\"> Question 2:   k-Nearest Neighbors  [10 points total] </h3>    <br />\n",
        "\n",
        "We begin our modeling with k-Nearest Neighbors (kNN) regression. You may use `sklearn`'s built-in functions.\n",
        "<br /><br />\n",
        "**2.1** [6pts] In this part, we will model a kNN regression on the predictor chosen above (1.4) and the response variable `Current_Selling_Price`.\n",
        "\n",
        "<details>\n",
        "<summary>\n",
        "<font size=\"3\" color=\"green\">\n",
        "<b>Click for instructions</b>\n",
        "</font>\n",
        "</summary>\n",
        "    \n",
        "- Split the dataset in train and test set with 75% training data and 25% testing data, using the random_state = 109. \n",
        "<br />\n",
        "- Fit a kNN regression model to the training set for the following 8 different values of $k$:  $k = 1,2,3,5,7,10,60,100$. \n",
        "<br />\n",
        "- Make 8 scatter plots of response vs. predictor for each $k$ arranged in a $4\\times2$ grid.  Each figure should have plots of the prediction from the k-NN regression and the actual data points on the same figure, as well as axis labels, title, and legend. Consider using the subplot functionality, unless you first try this and then decide that you have a clearer, cleaner way of communicating these plots.\n",
        "<br />\n",
        "- Evaluate the $MSE$ for the fitted models on both the training and test sets **for each $k$**.\n",
        "<br />\n",
        "- Plot both the training and test $MSE$ values as a function of $k$ on the same figure.  Again, the figure must have axis labels and a legend.\n",
        "<br />\n",
        "- Find the best model based on the test $MSE$ values.\n",
        "<br />\n",
        "- Evaluate and report the $R^2$ of the best model.\n",
        "\n",
        "</details>\n",
        "\n",
        "<br /><br />\n",
        "**2.2** [4pts] Discuss your results by answering the following questions.  You should answer the questions directly in a markdown cell of your notebook.\n",
        "\n",
        "<details>\n",
        "<summary>\n",
        "<font size=\"3\" color=\"green\">\n",
        "<b>Click for instructions</b>\n",
        "</font>\n",
        "</summary>\n",
        "    \n",
        "- How does the value of $k$ affect the fitted model?\n",
        "<br />\n",
        "- If $n$ is the number of observations in the training set, what can you say about a k-NN regression model that uses $k = n$?  \n",
        "- Do the training and test $MSE$ plots exhibit different trends?  Explain how the value of $k$ influences the training and test $MSE$ values.\n",
        "<br />\n",
        "- Run the same code by changing the random seed during the train-test split. Do you always get the same answer? If not, why?\n",
        "\n",
        "</details>\n",
        "</div>"
      ]
    },
    {
      "cell_type": "markdown",
      "metadata": {
        "id": "GadNfbMZA98Z"
      },
      "source": [
        "### Solutions"
      ]
    },
    {
      "cell_type": "markdown",
      "metadata": {
        "id": "4bUiAI-HA98Z"
      },
      "source": [
        "#### 2.1\n",
        "In this part, we will model a kNN regression on the predictor chosen above (1.4) and the response variable `Current_Selling_Price`."
      ]
    },
    {
      "cell_type": "code",
      "execution_count": null,
      "metadata": {
        "id": "uuGjvtlxA98Z"
      },
      "outputs": [],
      "source": [
        "#Choosing your predictor and response variable\n",
        "\n",
        "# your code here\n",
        "\n",
        "x = df['MRP'].values\n",
        "y = df['Current_Selling_Price'].values\n",
        "\n",
        "# end of your code here \n",
        "\n",
        "\n",
        "##Splitting the data into train and test sets with 75% training data and 25% testing data. Set random_state=109\n",
        "# your code here\n",
        "\n",
        "x_train, x_test, y_train, y_test = train_test_split(x, y, test_size=0.25, random_state=109)\n",
        "\n",
        "# end of your code here  \n",
        "\n",
        "\n",
        "## Fit a kNN regression model to the training set for the following 8 different values of  𝑘 :  𝑘=1,2,3,5,7,10,60,100 .\n",
        "## and make 8 scatter plots of response vs. predictor for each  𝑘 , arranged in a  4×2  grid. \n",
        "## Each figure should have plots of the prediction from the k-NN regression and the actual data points on the same figure, as well as axis labels, title, and legend \n",
        "# your code here \n",
        "# Plotting\n",
        "\n",
        "for i in [1, 2, 3, 5, 7, 10, 60, 100]:\n",
        "    knn = KNeighborsRegressor(n_neighbors=i)\n",
        "    knn.fit(x_train.reshape(-1, 1), y_train)\n",
        "    y_pred = knn.predict(x_test.reshape(-1, 1))\n",
        "    plt.figure()\n",
        "    plt.scatter(x_test, y_test, label='Actual')\n",
        "    plt.scatter(x_test, y_pred, label='Predicted')\n",
        "    plt.xlabel('MRP')\n",
        "    plt.ylabel('Current Selling Price')\n",
        "    plt.title('k = {}'.format(i))\n",
        "    plt.legend()\n",
        "\n"
      ]
    },
    {
      "cell_type": "code",
      "execution_count": null,
      "metadata": {
        "id": "m7BBFslRA98Z"
      },
      "outputs": [],
      "source": [
        "# Now make the MSE plots\n",
        "# your code here\n",
        "\n",
        "mse = []\n",
        "for i in [1, 2, 3, 5, 7, 10, 60, 100]:\n",
        "    knn = KNeighborsRegressor(n_neighbors=i)\n",
        "    knn.fit(x_train.reshape(-1, 1), y_train)\n",
        "    y_pred = knn.predict(x_test.reshape(-1, 1))\n",
        "    mse.append(mean_squared_error(y_test, y_pred))\n",
        "    \n",
        "plt.scatter(range(8), mse)\n",
        "\n",
        "\n"
      ]
    },
    {
      "cell_type": "code",
      "execution_count": null,
      "metadata": {},
      "outputs": [],
      "source": [
        "mse[4]"
      ]
    },
    {
      "cell_type": "code",
      "execution_count": null,
      "metadata": {
        "id": "Keg1yfowA98Z"
      },
      "outputs": [],
      "source": [
        "# Find the best model\n",
        "# your code here\n",
        "\n",
        "idx = np.array(mse).argmin()\n",
        "#k = 7 is the best model\n"
      ]
    },
    {
      "cell_type": "code",
      "execution_count": null,
      "metadata": {
        "id": "6Syn9qCrA98a",
        "scrolled": true
      },
      "outputs": [],
      "source": [
        "##Compute the R-squared for the best model\n",
        "# your code here\n",
        "\n",
        "knn = KNeighborsRegressor(n_neighbors=7)\n",
        "knn.fit(x_train.reshape(-1, 1), y_train)\n",
        "y_pred = knn.predict(x_test.reshape(-1, 1))\n",
        "r2 = r2_score(y_test, y_pred)\n",
        "print(r2)"
      ]
    },
    {
      "cell_type": "markdown",
      "metadata": {
        "id": "jk3Y4j0bA98b"
      },
      "source": [
        "#### 2.2"
      ]
    },
    {
      "cell_type": "markdown",
      "metadata": {
        "id": "mS_Bqf9VA98b"
      },
      "source": [
        "**Your answer here**\n",
        "\n",
        "**a) How does the value of $k$ affect the fitted model?**\n",
        "<br />\n",
        "\n",
        "\n",
        "**b) If $n$ is the number of observations in the training set, what can you say about a k-NN regression model that uses $k = n$?**\n",
        "<br />\n",
        "\n",
        "**c) Do the training and test $MSE$ plots exhibit different trends?  Explain how the value of $k$ influences the training and test $MSE$ values.**\n",
        "<br />\n",
        "\n",
        "**d) Run the same code by changing the random seed during the train-test split. Do you always get the same answer? If not, why?**\n",
        "\n"
      ]
    },
    {
      "cell_type": "markdown",
      "metadata": {},
      "source": [
        "a) k is the number of neighbouring point choses to compute/predict the response at a point \\\n",
        "b) since $y = \\frac{1}{k} \\sum ^k _{i=0} x_i$ with $x_i$ are the k nearest neighbours, by substituting $k=n$ we get the trivial result that $y= \\bar x$; ie the mean value is the response at all points. \\\n",
        "c) the higher the k, the more uniform the response is with no attempt to fit each point, thus, the train error is high, and similarly so is the test error. for lower k, the train prediction attempts to fit each data point as closely as possible; so train error will be low, but due to this overfitting; the test error will be high. we aim to choose an optimum value to minimize test mse; thus k = 7. train error decreases with k; test error decreases to an optimum then increases. \\\n",
        "d) No, as the optimum value may change according to the model that arises from the split"
      ]
    },
    {
      "cell_type": "markdown",
      "metadata": {
        "id": "jl_RIZP9A98b"
      },
      "source": [
        "<div class=\"alert alert-block alert-danger\" style=\"color:black;background-color:#F6E6E2\">\n",
        "<h3 style=\"color:black;background-color:#F6E6E2\"> Question 3:  Simple Linear Regression   [10 points total] </h3>   \n",
        "\n",
        "<br /><br />\n",
        "**3.1** [5pts] We will now fit our data using a linear regression model. Choose the same **predictor** and **response** variables used to model kNN regression.\n",
        "\n",
        "<details>\n",
        "<summary>\n",
        "<font size=\"3\" color=\"green\">\n",
        "<b>Click for instructions</b>\n",
        "</font>\n",
        "</summary>\n",
        "    \n",
        "- You will use the same 75% training and 25% testing split of the data, using the random_state = 110. \n",
        "<br />\n",
        "- Run a Linear Regression model.\n",
        "<br />\n",
        "- Report the slope/coefficient and intercept values for the fitted linear model.\n",
        "<br />\n",
        "- Report the $MSE$ for the training and test sets and the $R^2$ from the test set.\n",
        "<br />\n",
        "- Plot the **residuals** $e = y_{train} - \\hat{y}_{train}$ of the model on the training set on the Y-axis and the response variable $y_{train}$ on the X-axis. Draw a horizontal line denoting the zero residual value on the Y-axis. Discuss the shape of the plot and what it shows about the quality of the model.\n",
        "<br /><br />\n",
        "    \n",
        "**Note:** Use the `sklearn` module for linear regression. This module has built-in functions to summarize the results of regression and produce residual plots. Create a `Linear Regression` model, use the `fit` method in the instance for fitting a linear regression model, and use the `predict` method to make predictions. As previously, you may use the `mean_squared_error` function to compute $MSE$.\n",
        "\n",
        "    \n",
        "</details>\n",
        "\n",
        "<br /><br />\n",
        "\n",
        "**3.2** [5pts] Discuss your results by answering the following questions.  \n",
        "    \n",
        "<details>\n",
        "<summary>\n",
        "<font size=\"3\" color=\"green\">\n",
        "<b>Click for instructions</b>\n",
        "</font>\n",
        "</summary>   \n",
        "- How does the test $MSE$ score compare with the best test $MSE$ value obtained with k-NN regression? \n",
        "<br />\n",
        "- What does the sign of the slope of the fitted linear model convey about the data? \n",
        "<br />\n",
        "- Based on the residual plot that you made, discuss whether or not the assumption of linearity is valid for this data.\n",
        "<details>\n",
        "</div>\n"
      ]
    },
    {
      "cell_type": "markdown",
      "metadata": {
        "id": "_UdARtQLA98b"
      },
      "source": [
        "### Solutions"
      ]
    },
    {
      "cell_type": "markdown",
      "metadata": {
        "id": "ti5sk5OJA98b"
      },
      "source": [
        "#### 3.1\n",
        "**Predict the selling price**"
      ]
    },
    {
      "cell_type": "code",
      "execution_count": null,
      "metadata": {
        "collapsed": true,
        "id": "fR5mDlPGA98c"
      },
      "outputs": [],
      "source": [
        "# your code here\n",
        "\n",
        "x = df['MRP'].values\n",
        "y = df['Current_Selling_Price'].values\n",
        "x_train, x_test, y_train, y_test = train_test_split(x, y, test_size=0.25, random_state=110)"
      ]
    },
    {
      "cell_type": "code",
      "execution_count": null,
      "metadata": {
        "id": "n2u47JvzA98c"
      },
      "outputs": [],
      "source": [
        "## Fit a linear model to the train data\n",
        "\n",
        "# your code here\n",
        "\n",
        "lreg = LinearRegression()\n",
        "lreg.fit(x_train.reshape(-1, 1), y_train)\n",
        "y_pred = lreg.predict(x_test.reshape(-1, 1))\n",
        "\n",
        "print(\"beta_1 and beta_0 are:\",  lreg.coef_[0], lreg.intercept_)\n",
        "print(\"the mse train is \", mean_squared_error(y_train, lreg.predict(x_train.reshape(-1, 1))))\n",
        "print(\"the mse test is \", mean_squared_error(y_test, y_pred))\n",
        "print(\"the r-squared on test is \", r2_score(y_test, y_pred))\n",
        "\n",
        "# end of your code here \n",
        "\n",
        "\n",
        "## Plot the **residuals** \n",
        "# your code here \n",
        "\n",
        "residual = y_test - y_pred\n",
        "plt.plot(x_test, residual, 'o')\n",
        "plt.plot(x_test, np.zeros(len(x_test)), 'r-')\n"
      ]
    },
    {
      "cell_type": "markdown",
      "metadata": {},
      "source": [
        "we see that the residuals increase with x, so we may infer an increasing, i.e non constant variance in data"
      ]
    },
    {
      "cell_type": "markdown",
      "metadata": {
        "id": "4X6Tav-9A98c"
      },
      "source": [
        "#### 3.2"
      ]
    },
    {
      "cell_type": "markdown",
      "metadata": {
        "id": "KRlyc91cA98c"
      },
      "source": [
        "**Your answer here**\n",
        "\n",
        "**a) How does the test $MSE$ score compare with the best test $MSE$ value obtained with k-NN regression?**\n",
        "<br />\n",
        "\n",
        "\n",
        "**b) What does the sign of the slope of the fitted linear model convey about the data?**\n",
        "<br />\n",
        "\n",
        "\n",
        "**c) Based on the residual plot that you made, discuss whether or not the assumption of linearity is valid for this data.\n",
        "<br />**\n",
        "\n"
      ]
    },
    {
      "cell_type": "markdown",
      "metadata": {},
      "source": [
        "a)  it is worse than that of the best knn models \\\n",
        "b) positive corellations between MRP and selling price \\\n",
        "c) not valid as data is not of constant variance"
      ]
    },
    {
      "cell_type": "markdown",
      "metadata": {
        "id": "lEbXCZwwA98c"
      },
      "source": [
        "<div class=\"alert alert-block alert-danger\" style=\"color:black;background-color:#F6E6E2\">\n",
        "<h3 style=\"color:black;background-color:#F6E6E2\"> Question 4:  Linear Regression with Feature engineering [Optional] </h3>   \n",
        "\n",
        "<br /><br />\n",
        "**4.1** Creating a new variable from existing data: percentage depreciation.\n",
        "    \n",
        "<details>\n",
        "<summary>\n",
        "<font size=\"3\" color=\"green\">\n",
        "<b>Click for instructions</b>\n",
        "</font>\n",
        "</summary>\n",
        "    \n",
        "Feature engineering involves transforming data into features that better represent the underlying problem to the predictive models. This results in improved model accuracy on unseen data. \n",
        "<br />\n",
        "Our previous regression model relates the Current selling price to the MRP of the car with the equation:\n",
        "<br /><br />\n",
        "$$CSP = \\beta_0 + \\beta_1*MRP$$\n",
        "<br />\n",
        "However, this linear equation does not incorparate other interesting variables such as the ```year of manufacture```, or the ```kms driven```, which maybe important factors that affect the overall price of the car. \n",
        "<br />\n",
        "Instead of using multi-linear analysis, we can perform some intelligent feature engineering to identify other simple linear relationships within our data.\n",
        "<br />\n",
        "From practical experience, we know that the percentage drop of a car's price is proportional to the age of the car ([more on car depreciation here](https://www.finder.com/what-is-car-depreciation)). \n",
        "<br />\n",
        "Hence, it makes sense to investigate this variable seperately and try to identify possible relationships with other variables.  \n",
        "<br />\n",
        "Define the percentage depreciation of the Current selling price to the MRP as follows:\n",
        "<br /><br />\n",
        "$$\\textrm{Percentage of the Selling Price}=perc =\\frac{MRP - Selling Price}{MRP}$$\n",
        "</details>\n",
        "    \n",
        "<br /><br />\n",
        "**4.2** Exploratory Data Analysis.\n",
        "\n",
        "<details>\n",
        "<summary>\n",
        "<font size=\"3\" color=\"green\">\n",
        "<b>Click for instructions</b>\n",
        "</font>\n",
        "</summary>\n",
        "    \n",
        "For this section, we will consider `perc` to be our intermediate response variable. To understand the relationship between `perc` and our predictor variables we will perform EDA.\n",
        "<br /><br />\n",
        "Answer the following questions by plotting graphs.\n",
        "<br /><br />\n",
        "a) It is seen previosuly that there is a relationship between `Year` and `Current Selling Price`. Is the relationship between `Years` and `perc` the same. If not, how has it changed and why do you think so? Plot a scatter plot or any other plot of your choice and write your inferences.\n",
        "<br />\n",
        "b) Is the trend between the `MRP` and `perc` the same as that between `MRP` and `Current Selling Price`? Plot a scatter plot or any other plot of your choice and write your inferences.\n",
        "<br />\n",
        "c) Does there seem to be a relationship between `Kms_Driven` and `perc`? Plot a scatter plot or any other plot of your choice and write your inferences.\n",
        "<br />\n",
        "d) Which is the best predictor to predict `perc`, if there is one? Is it the same as that of `Current Selling price` or has it changed? Plot a scatter plot or any other plot of your choice and write your inferences.\n",
        "    \n",
        "</details>\n",
        "    \n",
        "<br /><br />\n",
        "    \n",
        "**4.3** Perform additional EDA.\n",
        "\n",
        "<details>\n",
        "<summary>\n",
        "<font size=\"3\" color=\"green\">\n",
        "<b>Click for instructions</b>\n",
        "</font>\n",
        "</summary>\n",
        "    \n",
        "Feel free to use other plots and statistics to find the best predictor and/or understand the relationship between variables. One example is given below. It is a plot of `Current Selling Price` vs `Year` that is color coded based on the `Kms_Driven`. \n",
        "    \n",
        "<img src=\"https://drive.google.com/uc?export=view&id=1cfXPPdh0qjy4X8jbt7G5vQAoXTnQfYH1\" width=600/> \n",
        "    \n",
        "</details>\n",
        "<br /><br /> \n",
        "    \n",
        "**4.4** Fitting a Linear Regression model.\n",
        "    \n",
        "<details>\n",
        "<summary>\n",
        "<font size=\"3\" color=\"green\">\n",
        "<b>Click for instructions</b>\n",
        "</font>\n",
        "</summary>\n",
        "    \n",
        "Based on the previous EDA choose appropriate **feature** variable(s) and **response** variable.\n",
        "\n",
        "- Again, use split train-test sets with training data of 75% and testing data of 25%\n",
        "<br />\n",
        "- Fit a Linear Regression model for each of the predictors.\n",
        "<br />\n",
        "- Predict the model for the train and test data\n",
        "<br />\n",
        "- Plot a graph with the test data with predictor variable on the *x* axis and `perc` on the *y* axis. Also plot the fit curve. Ensure you use the correct labels and show the legend.\n",
        "<br />\n",
        "- Report the $MSE$ score from the training and test sets.\n",
        "<br />\n",
        "- Find the best model i.e. the best predictor based on the $MSE$ of each model.\n",
        "</details>\n",
        "<br /><br />\n",
        "\n",
        "**4.5** Predicting The Current Selling Price using ```perc``` \n",
        "<br /><br />\n",
        "After performing the above analysis, answer briefly as to why are we getting such a dramatic increase in the R2 score?\n",
        "    <br /><br />\n",
        " </div>"
      ]
    },
    {
      "cell_type": "markdown",
      "metadata": {
        "id": "PfI2ebnHA98d"
      },
      "source": [
        "### Solutions"
      ]
    },
    {
      "cell_type": "markdown",
      "metadata": {
        "id": "ntXb6Z4iA98d"
      },
      "source": [
        "#### 4.1"
      ]
    },
    {
      "cell_type": "code",
      "execution_count": null,
      "metadata": {},
      "outputs": [],
      "source": [
        "df"
      ]
    },
    {
      "cell_type": "code",
      "execution_count": null,
      "metadata": {
        "id": "pXFSrFowA98d",
        "scrolled": true
      },
      "outputs": [],
      "source": [
        "#Create a new column perc and add to the dataframe\n",
        "# your code here\n",
        "\n",
        "df['perc'] = (df['MRP'] - df['Current_Selling_Price'])/df['MRP']\n",
        "\n",
        "#Creating a new column perc\n"
      ]
    },
    {
      "cell_type": "markdown",
      "metadata": {
        "id": "G2wApDvLA98d"
      },
      "source": [
        "#### 4.2"
      ]
    },
    {
      "cell_type": "code",
      "execution_count": null,
      "metadata": {
        "id": "ItfnuZpaA98d"
      },
      "outputs": [],
      "source": [
        "# your code here\n",
        "\n",
        "plt.plot(df['Year'], df['Current_Selling_Price'], 'o')\n",
        "plt.xlabel('Year')\n",
        "plt.ylabel('Current Selling Price')\n",
        "plt.figure()\n",
        "plt.plot(df['perc'], df['Current_Selling_Price'], '*')\n",
        "plt.xlabel('perc')\n",
        "plt.ylabel('Current Selling Price')"
      ]
    },
    {
      "cell_type": "markdown",
      "metadata": {
        "id": "tolG3FSMA98d"
      },
      "source": [
        "**Your answer here**\n"
      ]
    },
    {
      "cell_type": "markdown",
      "metadata": {
        "id": "RXQwoopMA98d"
      },
      "source": [
        "# your code here\n",
        "the relationship between year and csp is roughly positive, the relationship between perc and csp is roughly negative, as expected. \n",
        "\n"
      ]
    },
    {
      "cell_type": "markdown",
      "metadata": {
        "id": "AHJVCVA7A98e"
      },
      "source": [
        "**Your answer here**\n"
      ]
    },
    {
      "cell_type": "code",
      "execution_count": null,
      "metadata": {
        "id": "l8d0pSzPA98e"
      },
      "outputs": [],
      "source": [
        "# your code here\n",
        "#scatter plot between mrp and perc\n",
        "\n",
        "plt.plot(df['MRP'], df['perc'], 'o')\n",
        "plt.xlabel('MRP')\n",
        "plt.ylabel('perc')\n",
        "plt.figure()\n",
        "plt.plot(df['MRP'], df['Current_Selling_Price'], 'o')\n",
        "plt.xlabel('MRP')\n",
        "plt.ylabel('Current_Selling_Price')"
      ]
    },
    {
      "cell_type": "code",
      "execution_count": null,
      "metadata": {},
      "outputs": [],
      "source": [
        "plt.plot(df['Kms_Driven'], df['perc'], 'o')\n",
        "plt.xlabel('Kms_Driven')\n",
        "plt.ylabel('perc')"
      ]
    },
    {
      "cell_type": "markdown",
      "metadata": {
        "id": "qlHpULtBA98e"
      },
      "source": [
        "**Your answer here**\n"
      ]
    },
    {
      "cell_type": "markdown",
      "metadata": {
        "id": "EnenWgDiA98e"
      },
      "source": [
        "#### 4.3"
      ]
    },
    {
      "cell_type": "code",
      "execution_count": null,
      "metadata": {
        "id": "IuvEKwaUA98e"
      },
      "outputs": [],
      "source": [
        "#your code here"
      ]
    },
    {
      "cell_type": "markdown",
      "metadata": {
        "id": "I38D-4wMA98e"
      },
      "source": [
        "#### 4.4"
      ]
    },
    {
      "cell_type": "code",
      "execution_count": null,
      "metadata": {
        "id": "Y70XLsItA98e"
      },
      "outputs": [],
      "source": [
        "# Linear Regression using Year as the reponse variable\n",
        "# your code here\n"
      ]
    },
    {
      "cell_type": "code",
      "execution_count": null,
      "metadata": {
        "id": "CznHYdAZA98e"
      },
      "outputs": [],
      "source": [
        "# Linear Regression using MRP as the reponse variable\n",
        "# your code here\n"
      ]
    },
    {
      "cell_type": "code",
      "execution_count": null,
      "metadata": {
        "id": "jO61yq7qA98f"
      },
      "outputs": [],
      "source": [
        "# Linear Regression using KMs Driven as the reponse variable\n",
        "# your code here\n"
      ]
    },
    {
      "cell_type": "markdown",
      "metadata": {
        "id": "9y4CosbfA98f"
      },
      "source": [
        "**Your answer here**\n"
      ]
    },
    {
      "cell_type": "markdown",
      "metadata": {
        "id": "4vhxbwc8A98f"
      },
      "source": [
        "#### 4.5"
      ]
    },
    {
      "cell_type": "code",
      "execution_count": null,
      "metadata": {
        "id": "jYUJrg5qA98f"
      },
      "outputs": [],
      "source": [
        "#Linear Regression using Year as the reponse variable\n",
        "# your code here\n"
      ]
    },
    {
      "cell_type": "markdown",
      "metadata": {
        "id": "jpVhi01LA98f"
      },
      "source": [
        "**Your answer here**\n"
      ]
    },
    {
      "cell_type": "markdown",
      "metadata": {
        "id": "j3_jkn0kA98f"
      },
      "source": [
        "<div class=\"alert alert-block alert-danger\" style=\"color:black;background-color:#F6E6E2\">\n",
        "<h2 style=\"color:black;background-color:#F6E6E2\"> Part Β :  Multi-Linear Regression [20 points total] </h2><br />\n",
        "\n",
        "\n",
        "### Problem Description: \n",
        "\n",
        "Analysis of publically available profiles on **simplymarry** to learn more about the biases, income disparity & other interesting trends in India. \n",
        "\n",
        "#### Dataset\n",
        "\n",
        "The dataset was aggregated from the **simplymarry** site.\n",
        "\n",
        "All the attributes refer to traits and preferences of the person looking for a spouse. \n",
        "\n",
        "- **age** - Age of person looking for a spouse\n",
        "- **gender** - Female:0, Male:1 \n",
        "- **height** - Height in inches\n",
        "- **bmi** - BMI calculated based on height and weight\n",
        "- **eating** - {'Doesn't Matter':0, 'Jain': 1, 'Vegetarian': 2, 'Vegetarian With Eggs': 3, 'Non Vegetarian': 4}\n",
        "- **family_type** - ('Doesn't Matter': 0, 'Others':3, 'Nuclear': 1, 'Joint family both parents': 2, 'Joint family only mother':2, 'Joint family father mother and brothers sisters':2, 'Joint family single parent brothers and or sisters':2, 'Joint family only father': 2)\n",
        "- **status** - If social status matters to the person looking for a spouse: {'Doesn't Matter': 0, 'Middle Class': 1, 'Upper Middle Class': 2, 'High Class': 3, 'Rich / Affluent': 4}\n",
        "- **manglik** - {'No': 0, 'Yes': 1, 'Do Not Know': 2} ([More on this feature](https://en.wikipedia.org/wiki/Mangala_Dosha))\n",
        "- **drinking** - {'Doesn't Matter':0, 'No': 1, 'Occasionally': 2, 'Yes': 3}\n",
        "- **complexion** - {'Very Fair ': 1, 'Fair ': 2, 'Wheatish Medium ': 4, 'Wheatish ':3, 'Dark':5}\n",
        "- **body** - {'Slim': 1, 'Average': 2, 'Heavy': 3, 'Athletic': 4}\n",
        "- **education** - {'High School':0, 'Some college':1,'Undergrad':2, 'Grad':3, 'Doctorate':4}\n",
        "- **city** - ('International': 1, 'Mumbai': 2, 'Delhi':3, 'Kolkata':4,'Bengaluru':5, 'Chennai':6, 'Hyderabad':7, 'Pune':8, 'Ahmedabad':9,'Surat':10, 'Vishakapatnam':11, 'Others':12)\n",
        "- **income** - {Annual income in dollars}\n",
        "\n",
        "*source: Harvard IACS*\n",
        "\n",
        "#### Sensitive attributes in the data\n",
        "\n",
        "It is thought that users are mostly sincere when stating their preferences about their desired partner, and are unlikely to hide any deeply held cultural or sociological biases in order to be perceived as being politically correct. This might take care of the problem with surveys where responses touching on social norms are notorious for self-report bias.\n",
        "\n",
        "This is a dataset designed to make you think about issues of bias and social issues in datasets. We hope that you will be able to derive insights into the above mentioned sociological biases. The data could potentially provide answers to interesting questions with associated policy ramifications, such as do these biases reduce among more educated users, or more urban users?  "
      ]
    },
    {
      "cell_type": "code",
      "execution_count": 4,
      "metadata": {
        "id": "hBdEXJyTA98g"
      },
      "outputs": [],
      "source": [
        "# Read the file named \"income_prediction.csv\"\n",
        "\n",
        "df = pd.read_csv('data/income_prediction.csv')"
      ]
    },
    {
      "cell_type": "markdown",
      "metadata": {
        "id": "cm-eXinKA98g"
      },
      "source": [
        "<div class=\"alert alert-block alert-danger\" style=\"color:black;background-color:#F6E6E2\">\n",
        "<h3 style=\"color:black;background-color:#F6E6E2\"> Question 5:   Using Data science to learn more about Indian society  [15 points total] </h3>    <br />\n",
        "\n",
        "\n",
        "First we are going to use simple analytics to learn more about Indian society with the help of this dataset.\n",
        "\n",
        "The idea is to use basic modeling based on averages & sample distributions to uncover suspected biases, such as gender, skin tone & manglik status.\n",
        "\n",
        "Answer the below questions using plots & simple statistics\n",
        "<br /><br />\n",
        "**5.1** [2pt] Is there a gender-bias for income of participants?\n",
        "<br /><br />\n",
        "**5.2** [2pt] Is there a correlation between income and skin complexion?\n",
        "<br /><br />\n",
        "**5.3** [2pt] Is there a discernible trend in the incomes of participants from different regions/cities?\n",
        "<br /><br />\n",
        "**5.4** [1pt] Is there a clear trend between BMI and the income?\n",
        "<br /><br />\n",
        "**5.5** [2pt] Does the level of education show a clear trend with income?\n",
        "<br /><br />\n",
        "**5.6** [2pt] Do any of the numeric attributes show a clear non-linear dependence with the amount of income?\n",
        "<br /><br />\n",
        "**5.7** [2pt] Is the income lower or high for those living in 'nuclear' families?\n",
        "<br /><br />\n",
        "**5.8** [2pt] Does being 'Manglik' negatively affect the income of participants?"
      ]
    },
    {
      "cell_type": "markdown",
      "metadata": {
        "id": "i2nAqiJ7A98g"
      },
      "source": [
        "### Solutions"
      ]
    },
    {
      "cell_type": "code",
      "execution_count": 93,
      "metadata": {},
      "outputs": [
        {
          "data": {
            "text/html": [
              "<div>\n",
              "<style scoped>\n",
              "    .dataframe tbody tr th:only-of-type {\n",
              "        vertical-align: middle;\n",
              "    }\n",
              "\n",
              "    .dataframe tbody tr th {\n",
              "        vertical-align: top;\n",
              "    }\n",
              "\n",
              "    .dataframe thead th {\n",
              "        text-align: right;\n",
              "    }\n",
              "</style>\n",
              "<table border=\"1\" class=\"dataframe\">\n",
              "  <thead>\n",
              "    <tr style=\"text-align: right;\">\n",
              "      <th></th>\n",
              "      <th>age</th>\n",
              "      <th>gender</th>\n",
              "      <th>height</th>\n",
              "      <th>kgs</th>\n",
              "      <th>bmi</th>\n",
              "      <th>eating</th>\n",
              "      <th>status</th>\n",
              "      <th>marital_status</th>\n",
              "      <th>family_type</th>\n",
              "      <th>manglik</th>\n",
              "      <th>horoscope</th>\n",
              "      <th>drinking</th>\n",
              "      <th>smoking</th>\n",
              "      <th>values</th>\n",
              "      <th>complexion</th>\n",
              "      <th>body</th>\n",
              "      <th>caste_imp</th>\n",
              "      <th>employed</th>\n",
              "      <th>living</th>\n",
              "      <th>education</th>\n",
              "      <th>income</th>\n",
              "      <th>city</th>\n",
              "    </tr>\n",
              "  </thead>\n",
              "  <tbody>\n",
              "    <tr>\n",
              "      <th>0</th>\n",
              "      <td>25</td>\n",
              "      <td>1</td>\n",
              "      <td>62</td>\n",
              "      <td>50</td>\n",
              "      <td>20.161</td>\n",
              "      <td>4</td>\n",
              "      <td>1</td>\n",
              "      <td>1</td>\n",
              "      <td>2</td>\n",
              "      <td>0</td>\n",
              "      <td>1</td>\n",
              "      <td>1</td>\n",
              "      <td>1</td>\n",
              "      <td>2</td>\n",
              "      <td>2</td>\n",
              "      <td>1</td>\n",
              "      <td>1</td>\n",
              "      <td>4</td>\n",
              "      <td>1</td>\n",
              "      <td>0</td>\n",
              "      <td>2500</td>\n",
              "      <td>12</td>\n",
              "    </tr>\n",
              "    <tr>\n",
              "      <th>1</th>\n",
              "      <td>28</td>\n",
              "      <td>0</td>\n",
              "      <td>66</td>\n",
              "      <td>62</td>\n",
              "      <td>22.062</td>\n",
              "      <td>2</td>\n",
              "      <td>2</td>\n",
              "      <td>1</td>\n",
              "      <td>2</td>\n",
              "      <td>2</td>\n",
              "      <td>1</td>\n",
              "      <td>1</td>\n",
              "      <td>1</td>\n",
              "      <td>2</td>\n",
              "      <td>2</td>\n",
              "      <td>2</td>\n",
              "      <td>1</td>\n",
              "      <td>4</td>\n",
              "      <td>1</td>\n",
              "      <td>2</td>\n",
              "      <td>7500</td>\n",
              "      <td>8</td>\n",
              "    </tr>\n",
              "    <tr>\n",
              "      <th>2</th>\n",
              "      <td>30</td>\n",
              "      <td>1</td>\n",
              "      <td>69</td>\n",
              "      <td>72</td>\n",
              "      <td>23.441</td>\n",
              "      <td>2</td>\n",
              "      <td>1</td>\n",
              "      <td>1</td>\n",
              "      <td>1</td>\n",
              "      <td>1</td>\n",
              "      <td>1</td>\n",
              "      <td>1</td>\n",
              "      <td>1</td>\n",
              "      <td>5</td>\n",
              "      <td>2</td>\n",
              "      <td>1</td>\n",
              "      <td>0</td>\n",
              "      <td>5</td>\n",
              "      <td>0</td>\n",
              "      <td>2</td>\n",
              "      <td>7500</td>\n",
              "      <td>8</td>\n",
              "    </tr>\n",
              "    <tr>\n",
              "      <th>3</th>\n",
              "      <td>34</td>\n",
              "      <td>0</td>\n",
              "      <td>63</td>\n",
              "      <td>58</td>\n",
              "      <td>22.651</td>\n",
              "      <td>4</td>\n",
              "      <td>1</td>\n",
              "      <td>4</td>\n",
              "      <td>1</td>\n",
              "      <td>0</td>\n",
              "      <td>1</td>\n",
              "      <td>1</td>\n",
              "      <td>1</td>\n",
              "      <td>2</td>\n",
              "      <td>2</td>\n",
              "      <td>2</td>\n",
              "      <td>0</td>\n",
              "      <td>4</td>\n",
              "      <td>1</td>\n",
              "      <td>2</td>\n",
              "      <td>4167</td>\n",
              "      <td>10</td>\n",
              "    </tr>\n",
              "    <tr>\n",
              "      <th>4</th>\n",
              "      <td>30</td>\n",
              "      <td>0</td>\n",
              "      <td>62</td>\n",
              "      <td>72</td>\n",
              "      <td>29.032</td>\n",
              "      <td>2</td>\n",
              "      <td>2</td>\n",
              "      <td>1</td>\n",
              "      <td>1</td>\n",
              "      <td>0</td>\n",
              "      <td>1</td>\n",
              "      <td>1</td>\n",
              "      <td>1</td>\n",
              "      <td>3</td>\n",
              "      <td>1</td>\n",
              "      <td>2</td>\n",
              "      <td>0</td>\n",
              "      <td>5</td>\n",
              "      <td>1</td>\n",
              "      <td>3</td>\n",
              "      <td>20833</td>\n",
              "      <td>6</td>\n",
              "    </tr>\n",
              "  </tbody>\n",
              "</table>\n",
              "</div>"
            ],
            "text/plain": [
              "   age  gender  height  kgs     bmi  eating  status  marital_status  \\\n",
              "0   25       1      62   50  20.161       4       1               1   \n",
              "1   28       0      66   62  22.062       2       2               1   \n",
              "2   30       1      69   72  23.441       2       1               1   \n",
              "3   34       0      63   58  22.651       4       1               4   \n",
              "4   30       0      62   72  29.032       2       2               1   \n",
              "\n",
              "   family_type  manglik  horoscope  drinking  smoking  values  complexion  \\\n",
              "0            2        0          1         1        1       2           2   \n",
              "1            2        2          1         1        1       2           2   \n",
              "2            1        1          1         1        1       5           2   \n",
              "3            1        0          1         1        1       2           2   \n",
              "4            1        0          1         1        1       3           1   \n",
              "\n",
              "   body  caste_imp  employed  living  education  income  city  \n",
              "0     1          1         4       1          0    2500    12  \n",
              "1     2          1         4       1          2    7500     8  \n",
              "2     1          0         5       0          2    7500     8  \n",
              "3     2          0         4       1          2    4167    10  \n",
              "4     2          0         5       1          3   20833     6  "
            ]
          },
          "execution_count": 93,
          "metadata": {},
          "output_type": "execute_result"
        }
      ],
      "source": [
        "df.head()"
      ]
    },
    {
      "cell_type": "markdown",
      "metadata": {
        "id": "lGCppjz9A98g"
      },
      "source": [
        "#### 5.1"
      ]
    },
    {
      "cell_type": "code",
      "execution_count": 101,
      "metadata": {
        "id": "KQ7DKvkjA98g"
      },
      "outputs": [
        {
          "name": "stdout",
          "output_type": "stream",
          "text": [
            "128744 male\n",
            "34342 female\n"
          ]
        },
        {
          "data": {
            "text/plain": [
              "(array([1561.,    0.,    0.,    0.,    0.,    0.,    0.,    0.,    0.,\n",
              "        5852.]),\n",
              " array([0. , 0.1, 0.2, 0.3, 0.4, 0.5, 0.6, 0.7, 0.8, 0.9, 1. ]),\n",
              " <BarContainer object of 10 artists>)"
            ]
          },
          "execution_count": 101,
          "metadata": {},
          "output_type": "execute_result"
        },
        {
          "data": {
            "image/png": "[encoded data removed]",
            "text/plain": [
              "<Figure size 432x288 with 1 Axes>"
            ]
          },
          "metadata": {
            "needs_background": "light"
          },
          "output_type": "display_data"
        }
      ],
      "source": [
        "# your code here\n",
        "\n",
        "print(df[df['gender']==1].size, 'male')\n",
        "print(df[df['gender']==0].size, 'female')\n",
        "plt.hist(df['gender'])\n"
      ]
    },
    {
      "cell_type": "markdown",
      "metadata": {
        "id": "IJdmvFPhA98g"
      },
      "source": [
        "#### 5.2"
      ]
    },
    {
      "cell_type": "code",
      "execution_count": 109,
      "metadata": {
        "id": "o9fCkTO3A98h",
        "scrolled": true
      },
      "outputs": [
        {
          "data": {
            "text/plain": [
              "<matplotlib.collections.PathCollection at 0x1c80bb6a430>"
            ]
          },
          "execution_count": 109,
          "metadata": {},
          "output_type": "execute_result"
        },
        {
          "data": {
            "image/png": "[encoded data removed]",
            "text/plain": [
              "<Figure size 432x288 with 1 Axes>"
            ]
          },
          "metadata": {
            "needs_background": "light"
          },
          "output_type": "display_data"
        }
      ],
      "source": [
        "# you code here \n",
        "#correlation between income and skin complexion\n",
        "\n",
        "plt.scatter(df['income'], df['complexion'])\n"
      ]
    },
    {
      "cell_type": "markdown",
      "metadata": {
        "id": "AxJ79gUWA98h"
      },
      "source": [
        "#### 5.3"
      ]
    },
    {
      "cell_type": "code",
      "execution_count": 112,
      "metadata": {
        "id": "Dm_eh1E1A98h"
      },
      "outputs": [
        {
          "data": {
            "text/plain": [
              "<BarContainer object of 7413 artists>"
            ]
          },
          "execution_count": 112,
          "metadata": {},
          "output_type": "execute_result"
        },
        {
          "data": {
            "image/png": "[encoded data removed]",
            "text/plain": [
              "<Figure size 1440x1152 with 1 Axes>"
            ]
          },
          "metadata": {
            "needs_background": "light"
          },
          "output_type": "display_data"
        }
      ],
      "source": [
        "# your code here\n",
        "city_map = {'International': 1, 'Mumbai': 2, 'Delhi':3, 'Kolkata':4,'Bengaluru':5, 'Chennai':6, 'Hyderabad':7, 'Pune':8, 'Ahmedabad':9,'Surat':10, 'Vishakapatnam':11, 'Others':12}\n",
        "inv_dict = {v: k for k, v in city_map.items()}\n",
        "plt.figure(figsize = (20, 16))\n",
        "plt.bar(df['city'].map(inv_dict), df['income'])\n"
      ]
    },
    {
      "cell_type": "markdown",
      "metadata": {
        "id": "kqF_vRaxA98h"
      },
      "source": [
        "#### 5.4"
      ]
    },
    {
      "cell_type": "code",
      "execution_count": 5,
      "metadata": {
        "collapsed": true,
        "id": "ewgrE2sEA98h"
      },
      "outputs": [
        {
          "data": {
            "text/plain": [
              "[<matplotlib.lines.Line2D at 0x26c028d24f0>]"
            ]
          },
          "execution_count": 5,
          "metadata": {},
          "output_type": "execute_result"
        },
        {
          "data": {
            "image/png": "[encoded data removed]",
            "text/plain": [
              "<Figure size 432x288 with 1 Axes>"
            ]
          },
          "metadata": {
            "needs_background": "light"
          },
          "output_type": "display_data"
        }
      ],
      "source": [
        "# your code here\n",
        "plt.plot(df['bmi'], df['income'], 'o')"
      ]
    },
    {
      "cell_type": "markdown",
      "metadata": {
        "id": "RTFzwZTdA98h"
      },
      "source": [
        "#### 5.5"
      ]
    },
    {
      "cell_type": "code",
      "execution_count": 12,
      "metadata": {
        "id": "ev_lliIeA98h"
      },
      "outputs": [
        {
          "name": "stderr",
          "output_type": "stream",
          "text": [
            "c:\\Users\\munch\\AppData\\Local\\Programs\\Python\\Python39\\lib\\site-packages\\seaborn\\_decorators.py:36: FutureWarning: Pass the following variables as keyword args: x, y. From version 0.12, the only valid positional argument will be `data`, and passing other arguments without an explicit keyword will result in an error or misinterpretation.\n",
            "  warnings.warn(\n"
          ]
        },
        {
          "data": {
            "text/plain": [
              "<AxesSubplot:xlabel='education', ylabel='income'>"
            ]
          },
          "execution_count": 12,
          "metadata": {},
          "output_type": "execute_result"
        },
        {
          "data": {
            "image/png": "[encoded data removed]",
            "text/plain": [
              "<Figure size 1440x1152 with 1 Axes>"
            ]
          },
          "metadata": {
            "needs_background": "light"
          },
          "output_type": "display_data"
        }
      ],
      "source": [
        "# your code here\n",
        "ed_dict = {'High School':0, 'Some college':1,'Undergrad':2, 'Grad':3, 'Doctorate':4}\n",
        "inv_dict = {v: k for k, v in ed_dict.items()}\n",
        "plt.figure(figsize = (20, 16))\n",
        "sns.violinplot(df['education'].map(inv_dict), df['income'])\n"
      ]
    },
    {
      "cell_type": "markdown",
      "metadata": {
        "id": "W1Ox2Lu7A98i"
      },
      "source": [
        "#### 5.6"
      ]
    },
    {
      "cell_type": "code",
      "execution_count": null,
      "metadata": {
        "id": "eBr8clmsA98i"
      },
      "outputs": [],
      "source": [
        "# your code here\n"
      ]
    },
    {
      "cell_type": "markdown",
      "metadata": {
        "id": "wf8-PTxPA98i"
      },
      "source": [
        "#### 5.7"
      ]
    },
    {
      "cell_type": "code",
      "execution_count": null,
      "metadata": {
        "id": "tz1kJ75vA98i"
      },
      "outputs": [],
      "source": [
        "# your code here\n"
      ]
    },
    {
      "cell_type": "markdown",
      "metadata": {
        "id": "zwa32CgxA98i"
      },
      "source": [
        "#### 5.8"
      ]
    },
    {
      "cell_type": "code",
      "execution_count": null,
      "metadata": {
        "id": "dK_eRkQEA98i"
      },
      "outputs": [],
      "source": [
        "# your code here\n"
      ]
    },
    {
      "cell_type": "markdown",
      "metadata": {
        "id": "7JngK8y4A98i"
      },
      "source": [
        "<div class=\"alert alert-block alert-danger\" style=\"color:black;background-color:#F6E6E2\">\n",
        "<h3 style=\"color:black;background-color:#F6E6E2\"> Question 6:  Calculate the Gini Index  [5 points total] </h3>    <br />\n",
        "\n",
        "\n",
        "Gini coefficients are often used to quantify income inequality, read more [here](http://www.statsdirect.com/help/default.htm#nonparametric_methods/gini.htm).\n",
        "\n",
        "The Gini coefficient is defined by the formula:\n",
        "\n",
        "$G = \\dfrac{ \\sum_{i=1}^{n} (2i - n - 1) x_i}{n  \\sum_{i=1}^{n} x_i}$\n",
        "\n",
        "where $x$ is an observed value, $n$ is the number of values observed and $i$ is the rank of values in **ascending** order.\n",
        "\n",
        "A Gini Index of 0 implies perfect income equality, whereas a gini index close to 1 implies a concentration of wealth among the richest few.\n",
        "<br /><br />\n",
        "**6.1** [3 pts] Based on the above formula, calculate the Gini coffient for the income of the participants of this dataset\n",
        "<br /><br />\n",
        "**6.2** [2 pts] Compare your gini index with other countries\n",
        "\n",
        "According to the [world bank estimate](https://www.indexmundi.com/facts/indicators/SI.POV.GINI/rankings) the gini index of South Africa is 0.6 while that of Ukrain is 0.25. \n",
        "\n",
        "Based on your calculated gini index value for this dataset, what is your conclusion on the income disparity in the three countries?"
      ]
    },
    {
      "cell_type": "markdown",
      "metadata": {
        "id": "fUiFcdhFA98i"
      },
      "source": [
        "### Solutions"
      ]
    },
    {
      "cell_type": "markdown",
      "metadata": {
        "id": "unyR6BnDA98j"
      },
      "source": [
        "#### 6.1"
      ]
    },
    {
      "cell_type": "code",
      "execution_count": 29,
      "metadata": {
        "id": "LvXkHDr5A98j",
        "scrolled": true
      },
      "outputs": [],
      "source": [
        "# your code here\n",
        "def gini(y):\n",
        "    x = np.sort(y.values)\n",
        "    n, d = 0, 0\n",
        "    for i in range(len(x)):\n",
        "        n += (2*i - len(x) -1)*x[i]\n",
        "        d += x[i]\n",
        "    return n/(d*len(x))\n"
      ]
    },
    {
      "cell_type": "code",
      "execution_count": 30,
      "metadata": {},
      "outputs": [
        {
          "data": {
            "text/plain": [
              "0.4941561348985677"
            ]
          },
          "execution_count": 30,
          "metadata": {},
          "output_type": "execute_result"
        }
      ],
      "source": [
        "gini(df['income'])"
      ]
    },
    {
      "cell_type": "markdown",
      "metadata": {
        "id": "280vSIBVA98j"
      },
      "source": [
        "#### 6.2"
      ]
    },
    {
      "cell_type": "code",
      "execution_count": 31,
      "metadata": {
        "collapsed": true,
        "id": "hb2Xshq4A98j"
      },
      "outputs": [],
      "source": [
        "# your code here\n",
        "gini_df = pd.read_csv('data/gini.csv')\n"
      ]
    },
    {
      "cell_type": "code",
      "execution_count": 47,
      "metadata": {},
      "outputs": [
        {
          "data": {
            "text/plain": [
              "161"
            ]
          },
          "execution_count": 47,
          "metadata": {},
          "output_type": "execute_result"
        }
      ],
      "source": [
        "gini_df['Value'].idxmin(np.abs(gini_df['Value'] - 100*gini(df['income'])))"
      ]
    },
    {
      "cell_type": "code",
      "execution_count": 50,
      "metadata": {},
      "outputs": [
        {
          "data": {
            "text/plain": [
              "14"
            ]
          },
          "execution_count": 50,
          "metadata": {},
          "output_type": "execute_result"
        }
      ],
      "source": [
        "np.abs(gini_df['Value'] - 100*gini(df['income'])).argmin()"
      ]
    },
    {
      "cell_type": "code",
      "execution_count": 51,
      "metadata": {},
      "outputs": [
        {
          "data": {
            "text/plain": [
              "Rank               15\n",
              "Country    Costa Rica\n",
              "Value            49.3\n",
              "Year             2020\n",
              "Name: 14, dtype: object"
            ]
          },
          "execution_count": 51,
          "metadata": {},
          "output_type": "execute_result"
        }
      ],
      "source": [
        "gini_df.iloc[14]"
      ]
    },
    {
      "cell_type": "code",
      "execution_count": null,
      "metadata": {},
      "outputs": [],
      "source": [
        "#somewhat equal distribution of income"
      ]
    },
    {
      "cell_type": "markdown",
      "metadata": {
        "id": "E795525CA98j"
      },
      "source": [
        "<div class=\"alert alert-block alert-danger\" style=\"color:black;background-color:#F6E6E2\">\n",
        "<h3 style=\"color:black;background-color:#F6E6E2\"> Question 7:  Multi-Linear Regression [Optional] </h3>    <br />\n",
        "\n",
        "\n",
        "\n",
        "Now we increase the scope of our analysis to solve another problem that is related to income of the participants."
      ]
    },
    {
      "cell_type": "markdown",
      "metadata": {
        "id": "u44e_AnQA98j"
      },
      "source": [
        "![](https://github.com/hargun3045/blog-dump/blob/master/modi.png?raw=true)"
      ]
    },
    {
      "cell_type": "markdown",
      "metadata": {
        "id": "C3fXOlaOA98j"
      },
      "source": [
        "<div class=\"alert alert-block alert-danger\" style=\"color:black;background-color:#F6E6E2\">\n",
        "\n",
        "Owing to a large number of people underreporting their income to evade taxes, the Income Tax Department of India wants you to build a machine learning model that can predict the income of a given tax-payer based on commonly available information.\n",
        "\n",
        "This will help the department red flag suspected individuals who may show discernable trends of earing more but are excessively under-reporting on their annual income.\n",
        "\n",
        "The goal is to build the best model with the given dataset, using both categorical and continuous predictors that are available."
      ]
    },
    {
      "cell_type": "markdown",
      "metadata": {
        "id": "b_Iqy3pxA98j"
      },
      "source": [
        "<div class=\"alert alert-block alert-danger\" style=\"color:black;background-color:#F6E6E2\">\n",
        "\n",
        "Fit a multiple linear regression model to the training set.\n",
        "Use the `sklearn` library.\n",
        "\n",
        "#### Deliverables\n",
        "Your code should be contained in a Jupyter notebook cell.  An appropriate level of comments is necessary.  Your code should run and output the required outputs described below.\n",
        "\n",
        "#### Required Outputs\n",
        "- Fit a multiple linear regression model on the training set\n",
        "- Predict on train and test sets\n",
        "- Calculate the MSE for the train & test set\n",
        "- Report the $R^2$ score on the test set.\n",
        "- Make a plot of Residuals vs Log of predicted values $\\hat{y}$, with residuals on the $Y$-axis and predicted values on the $X$-axis. Use the formula ${\\epsilon} = y - \\hat{y}$ to compute the residual values. Include a horizontal line denoting the zero residual value on the $Y$-axis.\n",
        "- Plot a histogram of the magnitudes of the residuals."
      ]
    },
    {
      "cell_type": "code",
      "execution_count": null,
      "metadata": {
        "id": "c6y-ffB1A98k"
      },
      "outputs": [],
      "source": [
        "# Here we use another efficient way of splitting the datset into train and test sets using a \"mask\"\n",
        "\n",
        "#You can just run the code below, and just use df_train and df_test for this part of the homework directly\n",
        "\n",
        "mask = np.ones(len(df))\n",
        "\n",
        "# Using indices only\n",
        "\n",
        "itrain, itest = train_test_split(range(len(df)),train_size=0.8,random_state = 25)\n",
        "\n",
        "#setting all test indices as zero\n",
        "mask[itest] = 0\n",
        "\n",
        "# Converting mask into a boolean expression\n",
        "\n",
        "mask = mask==1"
      ]
    },
    {
      "cell_type": "code",
      "execution_count": null,
      "metadata": {
        "id": "4sGTxWqjA98k"
      },
      "outputs": [],
      "source": [
        "df_train = df[mask] # this will give you a dataframe of only training indicies\n",
        "df_test = df[~mask] # this will give you a dataframe of only test indicies"
      ]
    },
    {
      "cell_type": "code",
      "execution_count": null,
      "metadata": {
        "id": "e6qBmrXPA98k"
      },
      "outputs": [],
      "source": [
        "# A quick look of the training dataframe\n",
        "df_train.head()"
      ]
    },
    {
      "cell_type": "code",
      "execution_count": null,
      "metadata": {
        "id": "mU2W-enUA98k"
      },
      "outputs": [],
      "source": [
        "# your code here\n"
      ]
    }
  ],
  "metadata": {
    "colab": {
      "provenance": []
    },
    "kernelspec": {
      "display_name": "Python 3.9.5 64-bit",
      "language": "python",
      "name": "python3"
    },
    "language_info": {
      "codemirror_mode": {
        "name": "ipython",
        "version": 3
      },
      "file_extension": ".py",
      "mimetype": "text/x-python",
      "name": "python",
      "nbconvert_exporter": "python",
      "pygments_lexer": "ipython3",
      "version": "3.9.5"
    },
    "vscode": {
      "interpreter": {
        "hash": "3751913ea9f5bd031e0b6a9f249a184a00fb379186ae8976a2500bce67b98d17"
      }
    }
  },
  "nbformat": 4,
  "nbformat_minor": 0
}
