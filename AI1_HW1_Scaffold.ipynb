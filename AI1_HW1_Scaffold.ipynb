{
    "metadata": {
        "kernelspec": {
            "name": "python3",
            "display_name": "Python 3 (ipykernel)",
            "language": "python"
        }
    },
    "nbformat": 4,
    "nbformat_minor": 4,
    "cells": [
        {
            "attachments": {},
            "cell_type": "markdown",
            "metadata": {},
            "source": [
                "\u003cimg src=\"https://drive.google.com/uc?export=view\u0026id=1WpIuwT7ActKDLTILNYc4L1_2s20e8yMO\" width=300/\u003e \n",
                "\n",
                "# AI-1: ML/AI Basics\n",
                "## Homework 1: kNN and Linear Regression\n",
                "\n",
                "**AI1 Cohort 5**\u003cbr/\u003e\n",
                "**Univ.AI**\u003cbr/\u003e\n",
                "**Instructor**: Dr. Pavlos Protopapas\u003cbr /\u003e\n",
                "**Maximum Score**: 50\n",
                "\n",
                "\u003chr style=\"height:2.4pt\"\u003e"
            ]
        },
        {
            "attachments": {},
            "cell_type": "markdown",
            "metadata": {},
            "source": [
                "## Name of people who have worked on this homework: "
            ]
        },
        {
            "attachments": {},
            "cell_type": "markdown",
            "metadata": {},
            "source": [
                "## [Optional] Google Colab notebook link with any other affiliated links:"
            ]
        },
        {
            "attachments": {},
            "cell_type": "markdown",
            "metadata": {},
            "source": [
                "\u003chr style=\"height:2.4pt\"\u003e"
            ]
        },
        {
            "attachments": {},
            "cell_type": "markdown",
            "metadata": {},
            "source": [
                "## Instructions"
            ]
        },
        {
            "attachments": {},
            "cell_type": "markdown",
            "metadata": {},
            "source": [
                "\n",
                "- This homework is a jupyter notebook. Download and work on it in your local machine or you can work on it on Google Colab.\n",
                "\n",
                "- This homework should be worked on in pairs.\n",
                "\n",
                "- To submit the homework, either one of you upload the working notebook on Edstem and click the submit button on the bottom right corner.\n",
                "\n",
                "- Homework should be submitted by only one student in a team of two. If both teammates submit, scores will be penalized. \n",
                "\n",
                "- Running cells out of order is a common pitfall in Jupyter Notebooks. To make sure your code works restart the kernel and run the whole notebook again before you submit. \n",
                "\n",
                "- If you decide to submit a colab notebook, ensure you have given **complete edit access** to the staff while submitting. Also add any data that requires reviewing on google drive and submit the link.\n",
                "\n",
                "- Submit the homework well before the given deadline. Submissions after the deadline will not be graded.\n",
                "\n",
                "- We have tried to include all the libraries you may need to do the assignment in the imports statement at the top of this notebook. We strongly suggest that you use those and not others as we may not be familiar with them.\n",
                "\n",
                "- Comment your code well. This would help the graders in case there is any issue with the notebook while running. It is important to remember that the graders will not troubleshoot your code. \n",
                "\n",
                "- Please use .head() when viewing data. Do not submit a notebook that is **excessively long**. \n",
                "\n",
                "- In questions that require code to answer, such as \"calculate the $R^2$\", do not just output the value from a cell. Write a `print()` function that includes a reference to the calculated value, **not hardcoded**. For example: \n",
                "```\n",
                "print(f'The R^2 is {R:.4f}')\n",
                "```\n",
                "- Your plots should include clear labels for the $x$ and $y$ axes as well as a descriptive title (\"MSE plot\" is not a descriptive title; \"95 % confidence interval of coefficients of polynomial degree 5\" is).\n",
                "\n",
                "- **Ensure you make appropriate plots for all the questions it is applicable to, regardless of it being explicitly asked for.**\n",
                "\n",
                "\u003cspan style=\"color:red\"\u003e \n",
                "\n",
                "**IMPORTANT** \n",
                "\n",
                "- Plagiarism of code/blocks of text is not acceptable for any Univ.AI submissions.\n",
                "- You are allowed to refer a publicly available source of information for a SMALL chunk of code provided you cite it clearly. \n",
                "- Copying the code blatantly without attribution is not permitted under any case. \n",
                "- Sharing code between homework teams is strictly not allowed.\n",
                "In case of any confusion you are advised to ask the staff on the Ed forum rather than assume the course of action needed. \n",
                "- If caught plagiarizing, you risk expulsion from the program.\n",
                "\u003c/span\u003e\n",
                "\n",
                "\u003chr style=\"height:2pt\"\u003e\n",
                "\n",
                "\u003chr style=\"height:2pt\"\u003e"
            ]
        },
        {
            "attachments": {},
            "cell_type": "markdown",
            "metadata": {},
            "source": [
                "\u003ch2\u003e Overview \u003c/h2\u003e \n",
                "\n",
                "This assignment is the first where you will go through the process of loading a dataset, splitting it in train,validation and test sets, \n",
                "pre-processing it, and finally using it to run models and evaluating your results. \n",
                "\n",
                "We have two different datasets, one with car data in **Part 1** and another with data from an Indian matrimonial web site in **Part 2**.\n",
                "\n",
                "For part 1, you will explore two simple methods for prediction,  **k-nearest neighbors regression (kNN)**, a *non-parametric* method, and **linear regression**, a *parametric* method. As you move towards Part 2 of the homework, you will work with multiple linear and polynomial regression."
            ]
        },
        {
            "cell_type": "code",
            "execution_count": 0,
            "metadata": {},
            "outputs": [],
            "source": [
                "!pip install seaborn"
            ]
        },
        {
            "cell_type": "code",
            "execution_count": 0,
            "metadata": {
                "collapsed": true
            },
            "outputs": [],
            "source": [
                "# Importing standard libraries\n",
                "import requests\n",
                "from IPython.core.display import HTML\n",
                "import os\n",
                "import pathlib\n",
                "working_dir = pathlib.Path().absolute()\n",
                "os.chdir(working_dir)\n",
                "import numpy as np\n",
                "import operator\n",
                "import pandas as pd\n",
                "import matplotlib\n",
                "import matplotlib.pyplot as plt\n",
                "from sklearn.metrics import r2_score\n",
                "from sklearn.metrics import mean_squared_error\n",
                "from sklearn.neighbors import KNeighborsRegressor\n",
                "import seaborn as sns\n",
                "from sklearn.model_selection import train_test_split\n",
                "from sklearn.metrics import mean_squared_error\n",
                "from sklearn.linear_model import LinearRegression\n",
                "\n",
                "# Pandas tricks for better display\n",
                "pd.options.display.max_columns = 50  \n",
                "pd.options.display.max_rows = 500     \n",
                "pd.options.display.max_colwidth = 100\n",
                "pd.options.display.precision = 3\n",
                "\n",
                "# Part 2 imports \n",
                "from scipy.stats import norm\n",
                "from sklearn.preprocessing import PolynomialFeatures"
            ]
        },
        {
            "cell_type": "code",
            "execution_count": 0,
            "metadata": {},
            "outputs": [],
            "source": [
                "# Run this cell for more readable visuals \n",
                "large = 22; med = 16; small = 10\n",
                "params = {'axes.titlesize': large,\n",
                "          'legend.fontsize': med,\n",
                "          'figure.figsize': (16, 10),\n",
                "          'axes.labelsize': med,\n",
                "          'axes.titlesize': med,\n",
                "          'axes.linewidth': 2,\n",
                "          'xtick.labelsize': med,\n",
                "          'ytick.labelsize': med,\n",
                "          'figure.titlesize': large}\n",
                "plt.style.use('seaborn-whitegrid')\n",
                "plt.rcParams.update(params)\n",
                "%matplotlib inline"
            ]
        },
        {
            "attachments": {},
            "cell_type": "markdown",
            "metadata": {},
            "source": [
                "\u003cdiv class=\"alert alert-block alert-danger\" style=\"color:black;background-color:#F6E6E2\"\u003e\n",
                "\u003ch2 style=\"color:black;background-color:#F6E6E2\"\u003e Part A: k-NN and Linear Regression [30 points total] \u003c/h2\u003e    \u003cbr /\u003e\n",
                "\n",
                "\n",
                "### Problem Description: Predicting the Selling Price of Cars on CarDekho.com\n",
                "\n",
                "According to its website, **CarDekho.com** is India's leading car search venture. \n",
                "Its website and app carry rich automotive content such as expert reviews, \n",
                "detailed specs and prices, comparisons as well as videos and pictures of all car brands and models available in India. \n",
                "Each car has a **Current selling price**, which is the price for buying the car on this site, and a **MRP**, \n",
                "which is the retail price of the car. These two prices differ depending on factors such as brand, \n",
                "make year, mileage, condition, etc.  \n",
                "    \n",
                "#### DATASET\n",
                "\n",
                "The dataset contains 601 cars and is in file `car_dekho_full.csv`. It contains the following columns:\n",
                "\n",
                "- **Year** - make year (year the car was made), \n",
                "- **Current_Selling_Price** - current price of a car on CarDekho.com (in lakhs),\n",
                "- **MRP** - maximum retail price of a car (in lakhs),\n",
                "- **Kms_Driven** - number of kilometers\n",
                "\n",
                "Note: 1 *lakh*  is 100,000 Rupees in the Indian numbering system. Also, kilometers are used as a measure of distance instead of miles.\n",
                "\n",
                "#### Your Task: \n",
                "Predict the `Current_Selling_Price` from the other features.\n",
                ""
            ]
        },
        {
            "attachments": {},
            "cell_type": "markdown",
            "metadata": {},
            "source": [
                "\u003cdiv class=\"alert alert-block alert-danger\" style=\"color:black;background-color:#F6E6E2\"\u003e\n",
                "    \n",
                "\u003ch3 style=\"color:black;background-color:#F6E6E2\"\u003e Question 1:   Exploratory Data Analysis (EDA) [10 points total] \u003c/h3\u003e    \u003cbr /\u003e\n",
                "    \n",
                "To reach the goal of predicting the `Current_Selling_Price`, start by inspecting the dataset using Exploratory Data Analysis (EDA).\n",
                "\n",
                "\n",
                "Load the dataset, inspect it and answer the following questions: \n",
                "\n",
                "**1.1** [2pts] Which variables are quantitative, and which are categorical? \n",
                "    \n",
                "**1.2** [2pts] What are the means and standard deviations for `Current_Selling_Price` and `MRP`? \n",
                "    \n",
                "**1.3** [2pts] What is the range of Kilometers that the cars have? \n",
                "Note: The range is the difference between the maximum value and the minimum value.\n",
                "\n",
                "\n",
                "**1.4** [2pts] The goal of this part is to identify the best variable from which to predict our respone variable `Current Selling Price`. Plot a scatter plot between each predictor and reponse variable and examine the relationship between the predictors and `Current_Selling_Price`. Based on the plots, which is the  predictor that visually seems to best predict the `Current_Selling_Price`? \n",
                "    \n",
                "\u003cbr/\u003e\u003cbr/\u003e\n",
                "Note: Label your axes.\n",
                "\u003c/div\u003e"
            ]
        },
        {
            "attachments": {},
            "cell_type": "markdown",
            "metadata": {},
            "source": [
                "### Solutions "
            ]
        },
        {
            "attachments": {},
            "cell_type": "markdown",
            "metadata": {},
            "source": [
                "#### 1.1\n",
                "\n",
                "**Which variables are quantitative, and which are categorical?**"
            ]
        },
        {
            "cell_type": "code",
            "execution_count": 1,
            "metadata": {},
            "outputs": [],
            "source": [
                "# your code here\n",
                ""
            ]
        },
        {
            "attachments": {},
            "cell_type": "markdown",
            "metadata": {},
            "source": [
                "#### 1.2\n",
                "\n",
                "**What are the means and standard deviations for Current_Selling_Price and MRP?**"
            ]
        },
        {
            "cell_type": "code",
            "execution_count": 0,
            "metadata": {},
            "outputs": [],
            "source": [
                "# Name your variables as mean_csp, mean_mrp, std_csp, std_mrp\n",
                "\n",
                "# your code here\n",
                "\n",
                "# end your code here \n",
                "\n",
                "\n",
                "print (\"The mean Current Selling Price is\", mean_csp,\"lakhs\")\n",
                "print (\"The mean MRP is\", mean_mrp,'lakhs')\n",
                "print (\"The Standard Deviation of Current Selling Price is\", std_csp)\n",
                "print (\"The Standard Deviation of MRP is\", std_mrp)"
            ]
        },
        {
            "attachments": {},
            "cell_type": "markdown",
            "metadata": {},
            "source": [
                "#### 1.3\n",
                "\n",
                "**What is the range of Kilometers that the cars have?**"
            ]
        },
        {
            "cell_type": "code",
            "execution_count": 0,
            "metadata": {},
            "outputs": [],
            "source": [
                "# your code here\n",
                ""
            ]
        },
        {
            "attachments": {},
            "cell_type": "markdown",
            "metadata": {},
            "source": [
                "#### 1.4\n",
                "\n",
                "**The goal of this part is to identify the best variable from which to predict our respone variable Current Selling Price. Plot a scatter plot between each predictor and reponse variable and examine the relationship between the predictors and Current_Selling_Price. Based on the plots, which is the predictor that visually seem to best predict the Current_Selling_Price?**"
            ]
        },
        {
            "cell_type": "code",
            "execution_count": 0,
            "metadata": {},
            "outputs": [],
            "source": [
                "# your code here\n",
                ""
            ]
        },
        {
            "attachments": {},
            "cell_type": "markdown",
            "metadata": {},
            "source": [
                "**Your answer here**\n",
                ""
            ]
        },
        {
            "attachments": {},
            "cell_type": "markdown",
            "metadata": {},
            "source": [
                "\u003cdiv class=\"alert alert-block alert-danger\" style=\"color:black;background-color:#F6E6E2\"\u003e\n",
                "\u003ch3 style=\"color:black;background-color:#F6E6E2\"\u003e Question 2:   k-Nearest Neighbors  [10 points total] \u003c/h3\u003e    \u003cbr /\u003e\n",
                "\n",
                "We begin our modeling with k-Nearest Neighbors (kNN) regression. You may use `sklearn`'s built-in functions.\n",
                "\u003cbr /\u003e\u003cbr /\u003e\n",
                "**2.1** [6pts] In this part, we will model a kNN regression on the predictor chosen above (1.4) and the response variable `Current_Selling_Price`.\n",
                "\n",
                "\u003cdetails\u003e\n",
                "\u003csummary\u003e\n",
                "\u003cfont size=\"3\" color=\"green\"\u003e\n",
                "\u003cb\u003eClick for instructions\u003c/b\u003e\n",
                "\u003c/font\u003e\n",
                "\u003c/summary\u003e\n",
                "    \n",
                "- Split the dataset in train and test set with 75% training data and 25% testing data, using the random_state = 109. \n",
                "\u003cbr /\u003e\n",
                "- Fit a kNN regression model to the training set for the following 8 different values of $k$:  $k = 1,2,3,5,7,10,60,100$. \n",
                "\u003cbr /\u003e\n",
                "- Make 8 scatter plots of response vs. predictor for each $k$ arranged in a $4\\times2$ grid.  Each figure should have plots of the prediction from the k-NN regression and the actual data points on the same figure, as well as axis labels, title, and legend. Consider using the subplot functionality, unless you first try this and then decide that you have a clearer, cleaner way of communicating these plots.\n",
                "\u003cbr /\u003e\n",
                "- Evaluate the $MSE$ for the fitted models on both the training and test sets **for each $k$**.\n",
                "\u003cbr /\u003e\n",
                "- Plot both the training and test $MSE$ values as a function of $k$ on the same figure.  Again, the figure must have axis labels and a legend.\n",
                "\u003cbr /\u003e\n",
                "- Find the best model based on the test $MSE$ values.\n",
                "\u003cbr /\u003e\n",
                "- Evaluate and report the $R^2$ of the best model.\n",
                "\n",
                "\u003c/details\u003e\n",
                "\n",
                "\u003cbr /\u003e\u003cbr /\u003e\n",
                "**2.2** [4pts] Discuss your results by answering the following questions.  You should answer the questions directly in a markdown cell of your notebook.\n",
                "\n",
                "\u003cdetails\u003e\n",
                "\u003csummary\u003e\n",
                "\u003cfont size=\"3\" color=\"green\"\u003e\n",
                "\u003cb\u003eClick for instructions\u003c/b\u003e\n",
                "\u003c/font\u003e\n",
                "\u003c/summary\u003e\n",
                "    \n",
                "- How does the value of $k$ affect the fitted model?\n",
                "\u003cbr /\u003e\n",
                "- If $n$ is the number of observations in the training set, what can you say about a k-NN regression model that uses $k = n$?  \n",
                "- Do the training and test $MSE$ plots exhibit different trends?  Explain how the value of $k$ influences the training and test $MSE$ values.\n",
                "\u003cbr /\u003e\n",
                "- Run the same code by changing the random seed during the train-test split. Do you always get the same answer? If not, why?\n",
                "\n",
                "\u003c/details\u003e\n",
                "\u003c/div\u003e"
            ]
        },
        {
            "attachments": {},
            "cell_type": "markdown",
            "metadata": {},
            "source": [
                "### Solutions"
            ]
        },
        {
            "attachments": {},
            "cell_type": "markdown",
            "metadata": {},
            "source": [
                "#### 2.1\n",
                "In this part, we will model a kNN regression on the predictor chosen above (1.4) and the response variable `Current_Selling_Price`."
            ]
        },
        {
            "cell_type": "code",
            "execution_count": 0,
            "metadata": {},
            "outputs": [],
            "source": [
                "#Choosing your predictor and response variable\n",
                "\n",
                "# your code here\n",
                "\n",
                "# end of your code here \n",
                "\n",
                "\n",
                "##Splitting the data into train and test sets with 75% training data and 25% testing data. Set random_state=109\n",
                "# your code here\n",
                "\n",
                "# end of your code here  \n",
                "\n",
                "\n",
                "## Fit a kNN regression model to the training set for the following 8 different values of  𝑘 :  𝑘=1,2,3,5,7,10,60,100 .\n",
                "## and make 8 scatter plots of response vs. predictor for each  𝑘 , arranged in a  4×2  grid. \n",
                "## Each figure should have plots of the prediction from the k-NN regression and the actual data points on the same figure, as well as axis labels, title, and legend \n",
                "# your code here \n",
                "# Plotting\n",
                "\n",
                ""
            ]
        },
        {
            "cell_type": "code",
            "execution_count": 0,
            "metadata": {},
            "outputs": [],
            "source": [
                "# Now make the MSE plots\n",
                "# your code here\n",
                "\n",
                ""
            ]
        },
        {
            "cell_type": "code",
            "execution_count": 0,
            "metadata": {},
            "outputs": [],
            "source": [
                "# Find the best model\n",
                "# your code here\n",
                ""
            ]
        },
        {
            "cell_type": "code",
            "execution_count": 0,
            "metadata": {
                "scrolled": true
            },
            "outputs": [],
            "source": [
                "##Compute the R-squared for the best model\n",
                "# your code here\n",
                ""
            ]
        },
        {
            "attachments": {},
            "cell_type": "markdown",
            "metadata": {},
            "source": [
                "#### 2.2"
            ]
        },
        {
            "attachments": {},
            "cell_type": "markdown",
            "metadata": {},
            "source": [
                "**Your answer here**\n",
                "\n",
                "**a) How does the value of $k$ affect the fitted model?**\n",
                "\u003cbr /\u003e\n",
                "\n",
                "\n",
                "**b) If $n$ is the number of observations in the training set, what can you say about a k-NN regression model that uses $k = n$?**\n",
                "\u003cbr /\u003e\n",
                "\n",
                "**c) Do the training and test $MSE$ plots exhibit different trends?  Explain how the value of $k$ influences the training and test $MSE$ values.**\n",
                "\u003cbr /\u003e\n",
                "\n",
                "**d) Run the same code by changing the random seed during the train-test split. Do you always get the same answer? If not, why?**\n",
                "\n",
                ""
            ]
        },
        {
            "attachments": {},
            "cell_type": "markdown",
            "metadata": {},
            "source": [
                "\u003cdiv class=\"alert alert-block alert-danger\" style=\"color:black;background-color:#F6E6E2\"\u003e\n",
                "\u003ch3 style=\"color:black;background-color:#F6E6E2\"\u003e Question 3:  Simple Linear Regression   [10 points total] \u003c/h3\u003e   \n",
                "\n",
                "\u003cbr /\u003e\u003cbr /\u003e\n",
                "**3.1** [5pts] We will now fit our data using a linear regression model. Choose the same **predictor** and **response** variables used to model kNN regression.\n",
                "\n",
                "\u003cdetails\u003e\n",
                "\u003csummary\u003e\n",
                "\u003cfont size=\"3\" color=\"green\"\u003e\n",
                "\u003cb\u003eClick for instructions\u003c/b\u003e\n",
                "\u003c/font\u003e\n",
                "\u003c/summary\u003e\n",
                "    \n",
                "- You will use the same 75% training and 25% testing split of the data, using the random_state = 110. \n",
                "\u003cbr /\u003e\n",
                "- Run a Linear Regression model.\n",
                "\u003cbr /\u003e\n",
                "- Report the slope/coefficient and intercept values for the fitted linear model.\n",
                "\u003cbr /\u003e\n",
                "- Report the $MSE$ for the training and test sets and the $R^2$ from the test set.\n",
                "\u003cbr /\u003e\n",
                "- Plot the **residuals** $e = y_{train} - \\hat{y}_{train}$ of the model on the training set on the Y-axis and the response variable $y_{train}$ on the X-axis. Draw a horizontal line denoting the zero residual value on the Y-axis. Discuss the shape of the plot and what it shows about the quality of the model.\n",
                "\u003cbr /\u003e\u003cbr /\u003e\n",
                "    \n",
                "**Note:** Use the `sklearn` module for linear regression. This module has built-in functions to summarize the results of regression and produce residual plots. Create a `Linear Regression` model, use the `fit` method in the instance for fitting a linear regression model, and use the `predict` method to make predictions. As previously, you may use the `mean_squared_error` function to compute $MSE$.\n",
                "\n",
                "    \n",
                "\u003c/details\u003e\n",
                "\n",
                "\u003cbr /\u003e\u003cbr /\u003e\n",
                "\n",
                "**3.2** [5pts] Discuss your results by answering the following questions.  \n",
                "    \n",
                "\u003cdetails\u003e\n",
                "\u003csummary\u003e\n",
                "\u003cfont size=\"3\" color=\"green\"\u003e\n",
                "\u003cb\u003eClick for instructions\u003c/b\u003e\n",
                "\u003c/font\u003e\n",
                "\u003c/summary\u003e   \n",
                "- How does the test $MSE$ score compare with the best test $MSE$ value obtained with k-NN regression? \n",
                "\u003cbr /\u003e\n",
                "- What does the sign of the slope of the fitted linear model convey about the data? \n",
                "\u003cbr /\u003e\n",
                "- Based on the residual plot that you made, discuss whether or not the assumption of linearity is valid for this data.\n",
                "\u003cdetails\u003e\n",
                "\u003c/div\u003e\n",
                ""
            ]
        },
        {
            "attachments": {},
            "cell_type": "markdown",
            "metadata": {},
            "source": [
                "### Solutions"
            ]
        },
        {
            "attachments": {},
            "cell_type": "markdown",
            "metadata": {},
            "source": [
                "#### 3.1\n",
                "**Predict the selling price**"
            ]
        },
        {
            "cell_type": "code",
            "execution_count": 0,
            "metadata": {
                "collapsed": true
            },
            "outputs": [],
            "source": [
                "# your code here\n",
                ""
            ]
        },
        {
            "cell_type": "code",
            "execution_count": 0,
            "metadata": {},
            "outputs": [],
            "source": [
                "## Fit a linear model to the train data\n",
                "\n",
                "# your code here\n",
                "\n",
                "# end of your code here \n",
                "\n",
                "\n",
                "## Plot the **residuals** \n",
                "# your code here \n",
                ""
            ]
        },
        {
            "attachments": {},
            "cell_type": "markdown",
            "metadata": {},
            "source": [
                "#### 3.2"
            ]
        },
        {
            "attachments": {},
            "cell_type": "markdown",
            "metadata": {},
            "source": [
                "**Your answer here**\n",
                "\n",
                "**a) How does the test $MSE$ score compare with the best test $MSE$ value obtained with k-NN regression?**\n",
                "\u003cbr /\u003e\n",
                "\n",
                "\n",
                "**b) What does the sign of the slope of the fitted linear model convey about the data?**\n",
                "\u003cbr /\u003e\n",
                "\n",
                "\n",
                "**c) Based on the residual plot that you made, discuss whether or not the assumption of linearity is valid for this data.\n",
                "\u003cbr /\u003e**\n",
                "\n",
                ""
            ]
        },
        {
            "attachments": {},
            "cell_type": "markdown",
            "metadata": {},
            "source": [
                "\u003cdiv class=\"alert alert-block alert-danger\" style=\"color:black;background-color:#F6E6E2\"\u003e\n",
                "\u003ch3 style=\"color:black;background-color:#F6E6E2\"\u003e Question 4:  Linear Regression with Feature engineering [Optional] \u003c/h3\u003e   \n",
                "\n",
                "\u003cbr /\u003e\u003cbr /\u003e\n",
                "**4.1** Creating a new variable from existing data: percentage depreciation.\n",
                "    \n",
                "\u003cdetails\u003e\n",
                "\u003csummary\u003e\n",
                "\u003cfont size=\"3\" color=\"green\"\u003e\n",
                "\u003cb\u003eClick for instructions\u003c/b\u003e\n",
                "\u003c/font\u003e\n",
                "\u003c/summary\u003e\n",
                "    \n",
                "Feature engineering involves transforming data into features that better represent the underlying problem to the predictive models. This results in improved model accuracy on unseen data. \n",
                "\u003cbr /\u003e\n",
                "Our previous regression model relates the Current selling price to the MRP of the car with the equation:\n",
                "\u003cbr /\u003e\u003cbr /\u003e\n",
                "$$CSP = \\beta_0 + \\beta_1*MRP$$\n",
                "\u003cbr /\u003e\n",
                "However, this linear equation does not incorparate other interesting variables such as the ```year of manufacture```, or the ```kms driven```, which maybe important factors that affect the overall price of the car. \n",
                "\u003cbr /\u003e\n",
                "Instead of using multi-linear analysis, we can perform some intelligent feature engineering to identify other simple linear relationships within our data.\n",
                "\u003cbr /\u003e\n",
                "From practical experience, we know that the percentage drop of a car's price is proportional to the age of the car ([more on car depreciation here](https://www.finder.com/what-is-car-depreciation)). \n",
                "\u003cbr /\u003e\n",
                "Hence, it makes sense to investigate this variable seperately and try to identify possible relationships with other variables.  \n",
                "\u003cbr /\u003e\n",
                "Define the percentage depreciation of the Current selling price to the MRP as follows:\n",
                "\u003cbr /\u003e\u003cbr /\u003e\n",
                "$$\\textrm{Percentage of the Selling Price}=perc =\\frac{MRP - Selling Price}{MRP}$$\n",
                "\u003c/details\u003e\n",
                "    \n",
                "\u003cbr /\u003e\u003cbr /\u003e\n",
                "**4.2** Exploratory Data Analysis.\n",
                "\n",
                "\u003cdetails\u003e\n",
                "\u003csummary\u003e\n",
                "\u003cfont size=\"3\" color=\"green\"\u003e\n",
                "\u003cb\u003eClick for instructions\u003c/b\u003e\n",
                "\u003c/font\u003e\n",
                "\u003c/summary\u003e\n",
                "    \n",
                "For this section, we will consider `perc` to be our intermediate response variable. To understand the relationship between `perc` and our predictor variables we will perform EDA.\n",
                "\u003cbr /\u003e\u003cbr /\u003e\n",
                "Answer the following questions by plotting graphs.\n",
                "\u003cbr /\u003e\u003cbr /\u003e\n",
                "a) It is seen previosuly that there is a relationship between `Year` and `Current Selling Price`. Is the relationship between `Years` and `perc` the same. If not, how has it changed and why do you think so? Plot a scatter plot or any other plot of your choice and write your inferences.\n",
                "\u003cbr /\u003e\n",
                "b) Is the trend between the `MRP` and `perc` the same as that between `MRP` and `Current Selling Price`? Plot a scatter plot or any other plot of your choice and write your inferences.\n",
                "\u003cbr /\u003e\n",
                "c) Does there seem to be a relationship between `Kms_Driven` and `perc`? Plot a scatter plot or any other plot of your choice and write your inferences.\n",
                "\u003cbr /\u003e\n",
                "d) Which is the best predictor to predict `perc`, if there is one? Is it the same as that of `Current Selling price` or has it changed? Plot a scatter plot or any other plot of your choice and write your inferences.\n",
                "    \n",
                "\u003c/details\u003e\n",
                "    \n",
                "\u003cbr /\u003e\u003cbr /\u003e\n",
                "    \n",
                "**4.3** Perform additional EDA.\n",
                "\n",
                "\u003cdetails\u003e\n",
                "\u003csummary\u003e\n",
                "\u003cfont size=\"3\" color=\"green\"\u003e\n",
                "\u003cb\u003eClick for instructions\u003c/b\u003e\n",
                "\u003c/font\u003e\n",
                "\u003c/summary\u003e\n",
                "    \n",
                "Feel free to use other plots and statistics to find the best predictor and/or understand the relationship between variables. One example is given below. It is a plot of `Current Selling Price` vs `Year` that is color coded based on the `Kms_Driven`. \n",
                "    \n",
                "\u003cimg src=\"https://drive.google.com/uc?export=view\u0026id=1cfXPPdh0qjy4X8jbt7G5vQAoXTnQfYH1\" width=600/\u003e \n",
                "    \n",
                "\u003c/details\u003e\n",
                "\u003cbr /\u003e\u003cbr /\u003e \n",
                "    \n",
                "**4.4** Fitting a Linear Regression model.\n",
                "    \n",
                "\u003cdetails\u003e\n",
                "\u003csummary\u003e\n",
                "\u003cfont size=\"3\" color=\"green\"\u003e\n",
                "\u003cb\u003eClick for instructions\u003c/b\u003e\n",
                "\u003c/font\u003e\n",
                "\u003c/summary\u003e\n",
                "    \n",
                "Based on the previous EDA choose appropriate **feature** variable(s) and **response** variable.\n",
                "\n",
                "- Again, use split train-test sets with training data of 75% and testing data of 25%\n",
                "\u003cbr /\u003e\n",
                "- Fit a Linear Regression model for each of the predictors.\n",
                "\u003cbr /\u003e\n",
                "- Predict the model for the train and test data\n",
                "\u003cbr /\u003e\n",
                "- Plot a graph with the test data with predictor variable on the *x* axis and `perc` on the *y* axis. Also plot the fit curve. Ensure you use the correct labels and show the legend.\n",
                "\u003cbr /\u003e\n",
                "- Report the $MSE$ score from the training and test sets.\n",
                "\u003cbr /\u003e\n",
                "- Find the best model i.e. the best predictor based on the $MSE$ of each model.\n",
                "\u003c/details\u003e\n",
                "\u003cbr /\u003e\u003cbr /\u003e\n",
                "\n",
                "**4.5** Predicting The Current Selling Price using ```perc``` \n",
                "\u003cbr /\u003e\u003cbr /\u003e\n",
                "After performing the above analysis, answer briefly as to why are we getting such a dramatic increase in the R2 score?\n",
                "    \u003cbr /\u003e\u003cbr /\u003e\n",
                " \u003c/div\u003e"
            ]
        },
        {
            "attachments": {},
            "cell_type": "markdown",
            "metadata": {},
            "source": [
                "### Solutions"
            ]
        },
        {
            "attachments": {},
            "cell_type": "markdown",
            "metadata": {},
            "source": [
                "#### 4.1"
            ]
        },
        {
            "cell_type": "code",
            "execution_count": 0,
            "metadata": {
                "scrolled": true
            },
            "outputs": [],
            "source": [
                "#Create a new column perc and add to the dataframe\n",
                "# your code here\n",
                "\n",
                "#Creating a new column perc\n",
                ""
            ]
        },
        {
            "attachments": {},
            "cell_type": "markdown",
            "metadata": {},
            "source": [
                "#### 4.2"
            ]
        },
        {
            "cell_type": "code",
            "execution_count": 0,
            "metadata": {},
            "outputs": [],
            "source": [
                "# your code here\n",
                ""
            ]
        },
        {
            "attachments": {},
            "cell_type": "markdown",
            "metadata": {},
            "source": [
                "**Your answer here**\n",
                ""
            ]
        },
        {
            "cell_type": "code",
            "execution_count": 0,
            "metadata": {},
            "outputs": [],
            "source": [
                "# your code here\n",
                ""
            ]
        },
        {
            "attachments": {},
            "cell_type": "markdown",
            "metadata": {},
            "source": [
                "**Your answer here**\n",
                ""
            ]
        },
        {
            "cell_type": "code",
            "execution_count": 0,
            "metadata": {},
            "outputs": [],
            "source": [
                "# your code here\n",
                ""
            ]
        },
        {
            "attachments": {},
            "cell_type": "markdown",
            "metadata": {},
            "source": [
                "**Your answer here**\n",
                ""
            ]
        },
        {
            "attachments": {},
            "cell_type": "markdown",
            "metadata": {},
            "source": [
                "#### 4.3"
            ]
        },
        {
            "cell_type": "code",
            "execution_count": 0,
            "metadata": {},
            "outputs": [],
            "source": [
                "#your code here"
            ]
        },
        {
            "attachments": {},
            "cell_type": "markdown",
            "metadata": {},
            "source": [
                "#### 4.4"
            ]
        },
        {
            "cell_type": "code",
            "execution_count": 0,
            "metadata": {},
            "outputs": [],
            "source": [
                "# Linear Regression using Year as the reponse variable\n",
                "# your code here\n",
                ""
            ]
        },
        {
            "cell_type": "code",
            "execution_count": 0,
            "metadata": {},
            "outputs": [],
            "source": [
                "# Linear Regression using MRP as the reponse variable\n",
                "# your code here\n",
                ""
            ]
        },
        {
            "cell_type": "code",
            "execution_count": 0,
            "metadata": {},
            "outputs": [],
            "source": [
                "# Linear Regression using KMs Driven as the reponse variable\n",
                "# your code here\n",
                ""
            ]
        },
        {
            "attachments": {},
            "cell_type": "markdown",
            "metadata": {},
            "source": [
                "**Your answer here**\n",
                ""
            ]
        },
        {
            "attachments": {},
            "cell_type": "markdown",
            "metadata": {},
            "source": [
                "#### 4.5"
            ]
        },
        {
            "cell_type": "code",
            "execution_count": 0,
            "metadata": {},
            "outputs": [],
            "source": [
                "#Linear Regression using Year as the reponse variable\n",
                "# your code here\n",
                ""
            ]
        },
        {
            "attachments": {},
            "cell_type": "markdown",
            "metadata": {},
            "source": [
                "**Your answer here**\n",
                ""
            ]
        },
        {
            "attachments": {},
            "cell_type": "markdown",
            "metadata": {},
            "source": [
                "\u003cdiv class=\"alert alert-block alert-danger\" style=\"color:black;background-color:#F6E6E2\"\u003e\n",
                "\u003ch2 style=\"color:black;background-color:#F6E6E2\"\u003e Part Β :  Multi-Linear Regression [20 points total] \u003c/h2\u003e\u003cbr /\u003e\n",
                "\n",
                "\n",
                "### Problem Description: \n",
                "\n",
                "Analysis of publically available profiles on **simplymarry** to learn more about the biases, income disparity \u0026 other interesting trends in India. \n",
                "\n",
                "#### Dataset\n",
                "\n",
                "The dataset was aggregated from the **simplymarry** site.\n",
                "\n",
                "All the attributes refer to traits and preferences of the person looking for a spouse. \n",
                "\n",
                "- **age** - Age of person looking for a spouse\n",
                "- **gender** - Female:0, Male:1 \n",
                "- **height** - Height in inches\n",
                "- **bmi** - BMI calculated based on height and weight\n",
                "- **eating** - {'Doesn't Matter':0, 'Jain': 1, 'Vegetarian': 2, 'Vegetarian With Eggs': 3, 'Non Vegetarian': 4}\n",
                "- **family_type** - ('Doesn't Matter': 0, 'Others':3, 'Nuclear': 1, 'Joint family both parents': 2, 'Joint family only mother':2, 'Joint family father mother and brothers sisters':2, 'Joint family single parent brothers and or sisters':2, 'Joint family only father': 2)\n",
                "- **status** - If social status matters to the person looking for a spouse: {'Doesn't Matter': 0, 'Middle Class': 1, 'Upper Middle Class': 2, 'High Class': 3, 'Rich / Affluent': 4}\n",
                "- **manglik** - {'No': 0, 'Yes': 1, 'Do Not Know': 2} ([More on this feature](https://en.wikipedia.org/wiki/Mangala_Dosha))\n",
                "- **drinking** - {'Doesn't Matter':0, 'No': 1, 'Occasionally': 2, 'Yes': 3}\n",
                "- **complexion** - {'Very Fair ': 1, 'Fair ': 2, 'Wheatish Medium ': 4, 'Wheatish ':3, 'Dark':5}\n",
                "- **body** - {'Slim': 1, 'Average': 2, 'Heavy': 3, 'Athletic': 4}\n",
                "- **education** - {'High School':0, 'Some college':1,'Undergrad':2, 'Grad':3, 'Doctorate':4}\n",
                "- **city** - ('International': 1, 'Mumbai': 2, 'Delhi':3, 'Kolkata':4,'Bengaluru':5, 'Chennai':6, 'Hyderabad':7, 'Pune':8, 'Ahmedabad':9,'Surat':10, 'Vishakapatnam':11, 'Others':12)\n",
                "- **income** - {Annual income in dollars}\n",
                "\n",
                "*source: Harvard IACS*\n",
                "\n",
                "#### Sensitive attributes in the data\n",
                "\n",
                "It is thought that users are mostly sincere when stating their preferences about their desired partner, and are unlikely to hide any deeply held cultural or sociological biases in order to be perceived as being politically correct. This might take care of the problem with surveys where responses touching on social norms are notorious for self-report bias.\n",
                "\n",
                "This is a dataset designed to make you think about issues of bias and social issues in datasets. We hope that you will be able to derive insights into the above mentioned sociological biases. The data could potentially provide answers to interesting questions with associated policy ramifications, such as do these biases reduce among more educated users, or more urban users?  "
            ]
        },
        {
            "cell_type": "code",
            "execution_count": 12,
            "metadata": {},
            "outputs": [],
            "source": [
                "# Read the file named \"income_prediction.csv\"\n",
                "\n",
                "df = pd.read_csv('data/income_prediction.csv')"
            ]
        },
        {
            "attachments": {},
            "cell_type": "markdown",
            "metadata": {},
            "source": [
                "\u003cdiv class=\"alert alert-block alert-danger\" style=\"color:black;background-color:#F6E6E2\"\u003e\n",
                "\u003ch3 style=\"color:black;background-color:#F6E6E2\"\u003e Question 5:   Using Data science to learn more about Indian society  [15 points total] \u003c/h3\u003e    \u003cbr /\u003e\n",
                "\n",
                "\n",
                "First we are going to use simple analytics to learn more about Indian society with the help of this dataset.\n",
                "\n",
                "The idea is to use basic modeling based on averages \u0026 sample distributions to uncover suspected biases, such as gender, skin tone \u0026 manglik status.\n",
                "\n",
                "Answer the below questions using plots \u0026 simple statistics\n",
                "\u003cbr /\u003e\u003cbr /\u003e\n",
                "**5.1** [2pt] Is there a gender-bias for income of participants?\n",
                "\u003cbr /\u003e\u003cbr /\u003e\n",
                "**5.2** [2pt] Is there a correlation between income and skin complexion?\n",
                "\u003cbr /\u003e\u003cbr /\u003e\n",
                "**5.3** [2pt] Is there a discernible trend in the incomes of participants from different regions/cities?\n",
                "\u003cbr /\u003e\u003cbr /\u003e\n",
                "**5.4** [1pt] Is there a clear trend between BMI and the income?\n",
                "\u003cbr /\u003e\u003cbr /\u003e\n",
                "**5.5** [2pt] Does the level of education show a clear trend with income?\n",
                "\u003cbr /\u003e\u003cbr /\u003e\n",
                "**5.6** [2pt] Do any of the numeric attributes show a clear non-linear dependence with the amount of income?\n",
                "\u003cbr /\u003e\u003cbr /\u003e\n",
                "**5.7** [2pt] Is the income lower or high for those living in 'nuclear' families?\n",
                "\u003cbr /\u003e\u003cbr /\u003e\n",
                "**5.8** [2pt] Does being 'Manglik' negatively affect the income of participants?"
            ]
        },
        {
            "attachments": {},
            "cell_type": "markdown",
            "metadata": {},
            "source": [
                "### Solutions"
            ]
        },
        {
            "attachments": {},
            "cell_type": "markdown",
            "metadata": {},
            "source": [
                "#### 5.1"
            ]
        },
        {
            "cell_type": "code",
            "execution_count": 0,
            "metadata": {},
            "outputs": [],
            "source": [
                "# your code here\n",
                ""
            ]
        },
        {
            "attachments": {},
            "cell_type": "markdown",
            "metadata": {},
            "source": [
                "#### 5.2"
            ]
        },
        {
            "cell_type": "code",
            "execution_count": 0,
            "metadata": {
                "scrolled": true
            },
            "outputs": [],
            "source": [
                "# you code here \n",
                ""
            ]
        },
        {
            "attachments": {},
            "cell_type": "markdown",
            "metadata": {},
            "source": [
                "#### 5.3"
            ]
        },
        {
            "cell_type": "code",
            "execution_count": 0,
            "metadata": {},
            "outputs": [],
            "source": [
                "# your code here\n",
                ""
            ]
        },
        {
            "attachments": {},
            "cell_type": "markdown",
            "metadata": {},
            "source": [
                "#### 5.4"
            ]
        },
        {
            "cell_type": "code",
            "execution_count": 0,
            "metadata": {
                "collapsed": true
            },
            "outputs": [],
            "source": [
                "# your code here\n",
                ""
            ]
        },
        {
            "attachments": {},
            "cell_type": "markdown",
            "metadata": {},
            "source": [
                "#### 5.5"
            ]
        },
        {
            "cell_type": "code",
            "execution_count": 0,
            "metadata": {},
            "outputs": [],
            "source": [
                "# your code here\n",
                "\n",
                ""
            ]
        },
        {
            "attachments": {},
            "cell_type": "markdown",
            "metadata": {},
            "source": [
                "#### 5.6"
            ]
        },
        {
            "cell_type": "code",
            "execution_count": 0,
            "metadata": {},
            "outputs": [],
            "source": [
                "# your code here\n",
                ""
            ]
        },
        {
            "attachments": {},
            "cell_type": "markdown",
            "metadata": {},
            "source": [
                "#### 5.7"
            ]
        },
        {
            "cell_type": "code",
            "execution_count": 0,
            "metadata": {},
            "outputs": [],
            "source": [
                "# your code here\n",
                ""
            ]
        },
        {
            "attachments": {},
            "cell_type": "markdown",
            "metadata": {},
            "source": [
                "#### 5.8"
            ]
        },
        {
            "cell_type": "code",
            "execution_count": 0,
            "metadata": {},
            "outputs": [],
            "source": [
                "# your code here\n",
                ""
            ]
        },
        {
            "attachments": {},
            "cell_type": "markdown",
            "metadata": {},
            "source": [
                "\u003cdiv class=\"alert alert-block alert-danger\" style=\"color:black;background-color:#F6E6E2\"\u003e\n",
                "\u003ch3 style=\"color:black;background-color:#F6E6E2\"\u003e Question 6:  Calculate the Gini Index  [5 points total] \u003c/h3\u003e    \u003cbr /\u003e\n",
                "\n",
                "\n",
                "Gini coefficients are often used to quantify income inequality, read more [here](http://www.statsdirect.com/help/default.htm#nonparametric_methods/gini.htm).\n",
                "\n",
                "The Gini coefficient is defined by the formula:\n",
                "\n",
                "$G = \\dfrac{ \\sum_{i=1}^{n} (2i - n - 1) x_i}{n  \\sum_{i=1}^{n} x_i}$\n",
                "\n",
                "where $x$ is an observed value, $n$ is the number of values observed and $i$ is the rank of values in **ascending** order.\n",
                "\n",
                "A Gini Index of 0 implies perfect income equality, whereas a gini index close to 1 implies a concentration of wealth among the richest few.\n",
                "\u003cbr /\u003e\u003cbr /\u003e\n",
                "**6.1** [3 pts] Based on the above formula, calculate the Gini coffient for the income of the participants of this dataset\n",
                "\u003cbr /\u003e\u003cbr /\u003e\n",
                "**6.2** [2 pts] Compare your gini index with other countries\n",
                "\n",
                "According to the [world bank estimate](https://www.indexmundi.com/facts/indicators/SI.POV.GINI/rankings) the gini index of South Africa is 0.6 while that of Ukrain is 0.25. \n",
                "\n",
                "Based on your calculated gini index value for this dataset, what is your conclusion on the income disparity in the three countries?"
            ]
        },
        {
            "attachments": {},
            "cell_type": "markdown",
            "metadata": {},
            "source": [
                "### Solutions"
            ]
        },
        {
            "attachments": {},
            "cell_type": "markdown",
            "metadata": {},
            "source": [
                "#### 6.1"
            ]
        },
        {
            "cell_type": "code",
            "execution_count": 0,
            "metadata": {
                "scrolled": true
            },
            "outputs": [],
            "source": [
                "# your code here\n",
                ""
            ]
        },
        {
            "attachments": {},
            "cell_type": "markdown",
            "metadata": {},
            "source": [
                "#### 6.2"
            ]
        },
        {
            "cell_type": "code",
            "execution_count": 0,
            "metadata": {
                "collapsed": true
            },
            "outputs": [],
            "source": [
                "# your code here\n",
                ""
            ]
        },
        {
            "attachments": {},
            "cell_type": "markdown",
            "metadata": {},
            "source": [
                "\u003cdiv class=\"alert alert-block alert-danger\" style=\"color:black;background-color:#F6E6E2\"\u003e\n",
                "\u003ch3 style=\"color:black;background-color:#F6E6E2\"\u003e Question 7:  Multi-Linear Regression [Optional] \u003c/h3\u003e    \u003cbr /\u003e\n",
                "\n",
                "\n",
                "\n",
                "Now we increase the scope of our analysis to solve another problem that is related to income of the participants."
            ]
        },
        {
            "attachments": {},
            "cell_type": "markdown",
            "metadata": {},
            "source": [
                "![](https://github.com/hargun3045/blog-dump/blob/master/modi.png?raw=true)"
            ]
        },
        {
            "attachments": {},
            "cell_type": "markdown",
            "metadata": {},
            "source": [
                "\u003cdiv class=\"alert alert-block alert-danger\" style=\"color:black;background-color:#F6E6E2\"\u003e\n",
                "\n",
                "Owing to a large number of people underreporting their income to evade taxes, the Income Tax Department of India wants you to build a machine learning model that can predict the income of a given tax-payer based on commonly available information.\n",
                "\n",
                "This will help the department red flag suspected individuals who may show discernable trends of earing more but are excessively under-reporting on their annual income.\n",
                "\n",
                "The goal is to build the best model with the given dataset, using both categorical and continuous predictors that are available."
            ]
        },
        {
            "attachments": {},
            "cell_type": "markdown",
            "metadata": {},
            "source": [
                "\u003cdiv class=\"alert alert-block alert-danger\" style=\"color:black;background-color:#F6E6E2\"\u003e\n",
                "\n",
                "Fit a multiple linear regression model to the training set.\n",
                "Use the `sklearn` library.\n",
                "\n",
                "#### Deliverables\n",
                "Your code should be contained in a Jupyter notebook cell.  An appropriate level of comments is necessary.  Your code should run and output the required outputs described below.\n",
                "\n",
                "#### Required Outputs\n",
                "- Fit a multiple linear regression model on the training set\n",
                "- Predict on train and test sets\n",
                "- Calculate the MSE for the train \u0026 test set\n",
                "- Report the $R^2$ score on the test set.\n",
                "- Make a plot of Residuals vs Log of predicted values $\\hat{y}$, with residuals on the $Y$-axis and predicted values on the $X$-axis. Use the formula ${\\epsilon} = y - \\hat{y}$ to compute the residual values. Include a horizontal line denoting the zero residual value on the $Y$-axis.\n",
                "- Plot a histogram of the magnitudes of the residuals."
            ]
        },
        {
            "cell_type": "code",
            "execution_count": 17,
            "metadata": {},
            "outputs": [],
            "source": [
                "# Here we use another efficient way of splitting the datset into train and test sets using a \"mask\"\n",
                "\n",
                "#You can just run the code below, and just use df_train and df_test for this part of the homework directly\n",
                "\n",
                "mask = np.ones(len(df))\n",
                "\n",
                "# Using indices only\n",
                "\n",
                "itrain, itest = train_test_split(range(len(df)),train_size=0.8,random_state = 25)\n",
                "\n",
                "#setting all test indices as zero\n",
                "mask[itest] = 0\n",
                "\n",
                "# Converting mask into a boolean expression\n",
                "\n",
                "mask = mask==1"
            ]
        },
        {
            "cell_type": "code",
            "execution_count": 15,
            "metadata": {},
            "outputs": [],
            "source": [
                "df_train = df[mask] # this will give you a dataframe of only training indicies\n",
                "df_test = df[~mask] # this will give you a dataframe of only test indicies"
            ]
        },
        {
            "cell_type": "code",
            "execution_count": 0,
            "metadata": {},
            "outputs": [],
            "source": [
                "# A quick look of the training dataframe\n",
                "df_train.head()"
            ]
        },
        {
            "cell_type": "code",
            "execution_count": 0,
            "metadata": {},
            "outputs": [],
            "source": [
                "# your code here\n",
                ""
            ]
        }
    ]
}
